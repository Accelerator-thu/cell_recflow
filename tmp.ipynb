{
 "cells": [
  {
   "cell_type": "code",
   "execution_count": 1,
   "metadata": {},
   "outputs": [],
   "source": [
    "import matplotlib.pyplot as plt\n",
    "import numpy as np\n",
    "import pandas as pd\n",
    "\n",
    "import wot\n",
    "\n",
    "import anndata as ad\n",
    "# import mnnpy as mp\n",
    "import scanpy as sc\n",
    "\n",
    "import sklearn.neighbors as nb\n",
    "\n",
    "# Data loading\n",
    "\n",
    "FLE_COORDS_PATH ='data/fle_coords.txt'\n",
    "FULL_DS_PATH = 'data/ExprMatrix.h5ad'\n",
    "VAR_DS_PATH = 'data/ExprMatrix.var.genes.h5ad'\n",
    "CELL_DAYS_PATH = 'data/cell_days.txt'\n",
    "GENE_SETS_PATH = 'data/gene_sets.gmx'\n",
    "GENE_SET_SCORES_PATH = 'data/gene_set_scores.csv'\n",
    "CELL_SETS_PATH = 'data/cell_sets.gmt'\n",
    "\n",
    "coord_df = pd.read_csv(FLE_COORDS_PATH, index_col='id', sep='\\t')\n",
    "days_df = pd.read_csv(CELL_DAYS_PATH, index_col='id', sep='\\t')\n",
    "\n",
    "adata = wot.io.read_dataset(FULL_DS_PATH, obs=[CELL_DAYS_PATH])\n",
    "\n",
    "days = adata.obs['day'].unique()[:-1]\n",
    "indices = [adata.obs['day'].isin([day]) for day in days]\n",
    "adatalist = [adata[index] for index in indices]\n",
    "\n",
    "pcadata = np.load('adata_dim_400.npy')\n",
    "pcadatalist = [pcadata[index] for index in indices]\n",
    "\n"
   ]
  },
  {
   "cell_type": "code",
   "execution_count": 2,
   "metadata": {},
   "outputs": [
    {
     "name": "stdout",
     "output_type": "stream",
     "text": [
      "Time pair: day 0.0, day 0.5\n",
      "4556\n",
      "3449\n",
      "Average intersection ratio: 0.7094773728284611\n"
     ]
    }
   ],
   "source": [
    "import utils\n",
    "from utils import *\n",
    "from rectifiedflow import *\n",
    "\n",
    "index_pair = (0, 1)\n",
    "n_obs_list = [pcadatalist[i].shape[0] for i in range(len(pcadatalist))]\n",
    "intersection_0_1, unpaired_ref_cell_indices_0_1, unpaired_new_cell_indices_0_1 = NNVerification(index_pair)\n",
    "pairs_train_0_1, ref_crt_pcadata_0_1, new_crt_pcadata_0_1 = utils.gen_pairs_train(index_pair, n_obs_list, unpaired_ref_cell_indices_0_1, unpaired_new_cell_indices_0_1)\n",
    "iterations = 10000\n",
    "batchsize = 2048\n",
    "input_dim = 400"
   ]
  },
  {
   "cell_type": "code",
   "execution_count": 3,
   "metadata": {},
   "outputs": [
    {
     "name": "stdout",
     "output_type": "stream",
     "text": [
      "Model on cuda:0\n"
     ]
    }
   ],
   "source": [
    "recFlow = RectifiedFlow(index_pair=index_pair, n_obs_list=n_obs_list, model=MLP(input_dim=input_dim, hidden_num=1024), num_steps=1000)\n",
    "optimizer = torch.optim.Adam(recFlow.model.parameters(), lr=5e-3)"
   ]
  },
  {
   "cell_type": "code",
   "execution_count": 4,
   "metadata": {},
   "outputs": [
    {
     "name": "stderr",
     "output_type": "stream",
     "text": [
      "100%|██████████| 10001/10001 [02:26<00:00, 68.49it/s]\n"
     ]
    }
   ],
   "source": [
    "recFlow, loss_curve = train_rectified_flow(recFlow, optimizer, pairs_train_0_1, batchsize, iterations)"
   ]
  },
  {
   "cell_type": "code",
   "execution_count": null,
   "metadata": {},
   "outputs": [],
   "source": []
  }
 ],
 "metadata": {
  "kernelspec": {
   "display_name": "Python 3.10.8 ('cell_rec')",
   "language": "python",
   "name": "python3"
  },
  "language_info": {
   "codemirror_mode": {
    "name": "ipython",
    "version": 3
   },
   "file_extension": ".py",
   "mimetype": "text/x-python",
   "name": "python",
   "nbconvert_exporter": "python",
   "pygments_lexer": "ipython3",
   "version": "3.10.8"
  },
  "orig_nbformat": 4,
  "vscode": {
   "interpreter": {
    "hash": "05925669974edb5df6c58d36f83f0a4ef7581668e857ffcbbf59f6628323a2fd"
   }
  }
 },
 "nbformat": 4,
 "nbformat_minor": 2
}
