{
 "cells": [
  {
   "cell_type": "markdown",
   "metadata": {},
   "source": [
    "# Preparations"
   ]
  },
  {
   "cell_type": "code",
   "execution_count": 1,
   "metadata": {},
   "outputs": [],
   "source": [
    "import matplotlib.pyplot as plt\n",
    "import numpy as np\n",
    "import pandas as pd\n",
    "\n",
    "import wot\n",
    "\n",
    "import anndata as ad\n",
    "# import mnnpy as mp\n",
    "import scanpy as sc\n",
    "\n",
    "import sklearn.neighbors as nb"
   ]
  },
  {
   "cell_type": "code",
   "execution_count": 2,
   "metadata": {},
   "outputs": [],
   "source": [
    "# Data loading\n",
    "\n",
    "FLE_COORDS_PATH ='data/fle_coords.txt'\n",
    "FULL_DS_PATH = 'data/ExprMatrix.h5ad'\n",
    "VAR_DS_PATH = 'data/ExprMatrix.var.genes.h5ad'\n",
    "CELL_DAYS_PATH = 'data/cell_days.txt'\n",
    "GENE_SETS_PATH = 'data/gene_sets.gmx'\n",
    "GENE_SET_SCORES_PATH = 'data/gene_set_scores.csv'\n",
    "CELL_SETS_PATH = 'data/cell_sets.gmt'\n",
    "\n",
    "coord_df = pd.read_csv(FLE_COORDS_PATH, index_col='id', sep='\\t')\n",
    "days_df = pd.read_csv(CELL_DAYS_PATH, index_col='id', sep='\\t')\n",
    "\n",
    "adata = wot.io.read_dataset(FULL_DS_PATH, obs=[CELL_DAYS_PATH])"
   ]
  },
  {
   "cell_type": "code",
   "execution_count": 3,
   "metadata": {},
   "outputs": [],
   "source": [
    "days = adata.obs['day'].unique()[:-1]\n",
    "indices = [adata.obs['day'].isin([day]) for day in days]\n",
    "adatalist = [adata[index] for index in indices]\n",
    "\n",
    "pcadata = np.load('adata_dim_400.npy')\n",
    "pcadatalist = [pcadata[index] for index in indices]"
   ]
  },
  {
   "cell_type": "code",
   "execution_count": 5,
   "metadata": {},
   "outputs": [
    {
     "data": {
      "text/plain": [
       "8110"
      ]
     },
     "execution_count": 5,
     "metadata": {},
     "output_type": "execute_result"
    }
   ],
   "source": [
    "indices[36].sum()"
   ]
  },
  {
   "cell_type": "code",
   "execution_count": 4,
   "metadata": {},
   "outputs": [
    {
     "data": {
      "text/plain": [
       "True"
      ]
     },
     "execution_count": 4,
     "metadata": {},
     "output_type": "execute_result"
    }
   ],
   "source": [
    "import torch\n",
    "torch.cuda.is_available()"
   ]
  },
  {
   "cell_type": "markdown",
   "metadata": {},
   "source": [
    "# Verification of correctness of KNN method"
   ]
  },
  {
   "cell_type": "code",
   "execution_count": null,
   "metadata": {},
   "outputs": [],
   "source": [
    "import sklearn.neighbors as nb\n",
    "import pandas as pd\n",
    "import numpy as np\n",
    "import wot\n",
    "\n",
    "def NNVerification(index_pair, n_neighbors=50, do_concatenate=True, FULL_DS_PATH='data/ExprMatrix.h5ad', CELL_DAYS_PATH='data/cell_days.txt', split_mode='day'):\n",
    "    time_ref, time_new = index_pair\n",
    "    assert time_new == time_ref + 1, 'Noncontiguous time indices.'\n",
    "    mnn_path = f\"pcadata/{time_ref}_{time_new}.csv\"\n",
    "    crt_path = f\"pcadata/pcadata_contiguous_{time_ref}_{time_new}.npy\"\n",
    "    mnn_pair = pd.read_csv(mnn_path)\n",
    "    crt_pcadata = np.load(crt_path, allow_pickle=True)\n",
    "    # print(crt_pcadata)\n",
    "    \n",
    "    adata = wot.io.read_dataset(FULL_DS_PATH, obs=[CELL_DAYS_PATH])\n",
    "    obs_unique = filter(None, adata.obs[split_mode].unique())\n",
    "    adata_indices = [adata.obs[split_mode].isin([obs_uni_ele]) for obs_uni_ele in obs_unique]\n",
    "    adatalist = [adata[index] for index in adata_indices]\n",
    "    checkpoints = adata.obs[split_mode].unique()\n",
    "    print(f\"Time pair: day {checkpoints[time_ref]}, day {checkpoints[time_new]}\")\n",
    "    \n",
    "    KNN = nb.NearestNeighbors(n_neighbors=n_neighbors)\n",
    "\n",
    "    n_obs_ref = adata[adata.obs[split_mode].isin([checkpoints[time_ref]])].n_obs\n",
    "    n_obs_new = adata[adata.obs[split_mode].isin([checkpoints[time_new]])].n_obs\n",
    "    \n",
    "    print(n_obs_ref)\n",
    "    print(n_obs_new)\n",
    "    pcadata_ref = pcadata_new = None\n",
    "    if do_concatenate:\n",
    "        pcadata_ref = crt_pcadata[0][:n_obs_ref]\n",
    "        pcadata_new = crt_pcadata[0][n_obs_ref:]\n",
    "    # print(crt_pcadata)\n",
    "    # print(pcadata_ref)\n",
    "    KNN.fit(pcadata_new)\n",
    "    \n",
    "    paired_ref_cell_indices = mnn_pair['ref cell'].unique()\n",
    "    paired_new_cell_indices = mnn_pair['new cell'].unique()\n",
    "    \n",
    "    dists, knn_indices = KNN.kneighbors(pcadata_ref)\n",
    "    intersection = []\n",
    "    \n",
    "    for paired_ref_cell_index in paired_ref_cell_indices:\n",
    "        knn_set = set(knn_indices[paired_ref_cell_index])\n",
    "        new_cell_indices = mnn_pair['ref cell'] == paired_ref_cell_index\n",
    "        mnn_set = set(mnn_pair[new_cell_indices]['new cell'])\n",
    "        intersection.append(len(knn_set & mnn_set) / len(mnn_set))\n",
    "        \n",
    "    intersection = np.array(intersection)\n",
    "        \n",
    "    print(f\"Average intersection ratio: {np.average(intersection)}\")\n",
    "    \n",
    "    unpaired_ref_cell_indices = [index for index in range(n_obs_ref) if index not in paired_ref_cell_indices]\n",
    "    unpaired_new_cell_indices = [index for index in range(n_obs_new) if index not in paired_new_cell_indices]\n",
    "    \n",
    "    return intersection, unpaired_ref_cell_indices, unpaired_new_cell_indices\n",
    "    "
   ]
  },
  {
   "cell_type": "code",
   "execution_count": 97,
   "metadata": {},
   "outputs": [
    {
     "name": "stdout",
     "output_type": "stream",
     "text": [
      "Time pair: day 0.5, day 1.0\n",
      "3449\n",
      "3648\n",
      "Average intersection ratio: 0.6392277810012297\n"
     ]
    },
    {
     "data": {
      "text/plain": [
       "0.6754731861198738"
      ]
     },
     "execution_count": 97,
     "metadata": {},
     "output_type": "execute_result"
    }
   ],
   "source": [
    "index_pair = (1, 2)\n",
    "intersection, unpaired_ref_cells, unpaired_new_cells = NNVerification(index_pair)\n",
    "np.count_nonzero(intersection > 0.5) / len(intersection)"
   ]
  },
  {
   "cell_type": "markdown",
   "metadata": {},
   "source": [
    "# Generate training pairs\n",
    "\n",
    "Use KNN to generate initial pairs for those unmatched in MNN."
   ]
  },
  {
   "cell_type": "code",
   "execution_count": 101,
   "metadata": {},
   "outputs": [],
   "source": [
    "import torch\n",
    "import torch.nn as nn\n",
    "import torch.nn.functional as F\n",
    "from tqdm import trange\n",
    "\n",
    "def gen_pairs_train(index_pair, unpaired_ref_cells, unpaired_new_cells):\n",
    "    mnn_pair = pd.read_csv(f\"pcadata/{index_pair[0]}_{index_pair[1]}.csv\")\n",
    "    mnn_pair_ref_new_pair_indices = torch.from_numpy(np.stack((mnn_pair['ref cell'], mnn_pair['new cell']), axis=0)).T\n",
    "\n",
    "    crt_pcadata = np.load(f'pcadata/pcadata_contiguous_{index_pair[0]}_{index_pair[1]}.npy', allow_pickle=True)\n",
    "    ref_crt_pcadata = crt_pcadata[0][:pcadatalist[index_pair[0]].shape[0]]\n",
    "    new_crt_pcadata = crt_pcadata[0][pcadatalist[index_pair[0]].shape[0]:]\n",
    "\n",
    "    # print(unpaired_new_cells)\n",
    "    unpaired_ref_cell_pca_adata = ref_crt_pcadata[unpaired_ref_cells]\n",
    "    unpaired_new_cell_pca_adata = new_crt_pcadata[unpaired_new_cells]\n",
    "\n",
    "    KNN_ref = nb.NearestNeighbors(n_neighbors=50)\n",
    "    KNN_new = nb.NearestNeighbors(n_neighbors=50)\n",
    "    KNN_ref.fit(ref_crt_pcadata)\n",
    "    KNN_new.fit(new_crt_pcadata)\n",
    "\n",
    "    _, unpaired_ref_cell_knn_indices = KNN_new.kneighbors(unpaired_ref_cell_pca_adata)\n",
    "    _, unpaired_new_cell_knn_indices = KNN_ref.kneighbors(unpaired_new_cell_pca_adata)\n",
    "\n",
    "    rd_ref_cols = np.random.randint(50, size=(unpaired_ref_cell_knn_indices.shape[0] * 3))\n",
    "    rd_new_cols = np.random.randint(50, size=(unpaired_new_cell_knn_indices.shape[0] * 3))\n",
    "    rd_ref_rows = np.repeat(np.arange(unpaired_ref_cell_knn_indices.shape[0]), 3, axis=0)\n",
    "    rd_new_rows = np.repeat(np.arange(unpaired_new_cell_knn_indices.shape[0]), 3, axis=0)\n",
    "    unpaired_ref_rows = np.repeat(np.array(unpaired_ref_cells), 3, axis=0)\n",
    "    unpaired_new_rows = np.repeat(np.array(unpaired_new_cells), 3, axis=0)\n",
    "\n",
    "    sampled_unpaired_ref_cell_knn_indices = np.array([unpaired_ref_cell_knn_indices[rd_ref_rows[i]][rd_ref_cols[i]] for i in range(len(rd_ref_cols))])\n",
    "    sampled_unpaired_new_cell_knn_indices = np.array([unpaired_new_cell_knn_indices[rd_new_rows[i]][rd_new_cols[i]] for i in range(len(rd_new_cols))])\n",
    "\n",
    "    knn_init_ref = torch.from_numpy(np.stack((unpaired_ref_rows, sampled_unpaired_ref_cell_knn_indices)).T)\n",
    "    knn_init_new = torch.from_numpy(np.stack((sampled_unpaired_new_cell_knn_indices, unpaired_new_rows)).T)\n",
    "\n",
    "    pairs_train = torch.concat((mnn_pair_ref_new_pair_indices, knn_init_ref, knn_init_new), dim=0)\n",
    "    # rd_ref_indices = np.stack(rd_ref_rows, rd_ref_cols)\n",
    "    return pairs_train, ref_crt_pcadata, new_crt_pcadata"
   ]
  },
  {
   "cell_type": "code",
   "execution_count": 100,
   "metadata": {},
   "outputs": [],
   "source": [
    "index_pair = (1, 2)\n",
    "# intersection, unpaired_ref_cells, unpaired_new_cells = NNVerification(index_pair)\n",
    "# np.count_nonzero(intersection > 0.5) / len(intersection)\n",
    "pairs_train_1_2, ref_crt_pcadata, new_crt_pcadata = gen_pairs_train(index_pair, unpaired_ref_cells, unpaired_new_cells)"
   ]
  },
  {
   "cell_type": "markdown",
   "metadata": {},
   "source": [
    "# Rectified Flow Model"
   ]
  },
  {
   "cell_type": "code",
   "execution_count": 7,
   "metadata": {},
   "outputs": [],
   "source": [
    "class MLP(nn.Module):\n",
    "    def __init__(self, input_dim=400, hidden_num=1024):\n",
    "        super().__init__()\n",
    "        self.fc1 = nn.Linear(input_dim+1, hidden_num, bias=True)\n",
    "        self.fc2 = nn.Linear(hidden_num, hidden_num, bias=True)\n",
    "        self.fc3 = nn.Linear(hidden_num, input_dim, bias=True)\n",
    "        self.act = lambda x: torch.tanh(x)\n",
    "    \n",
    "    def forward(self, x_input, t):\n",
    "        inputs = torch.cat([x_input, t], dim=1)\n",
    "        x = self.fc1(inputs)\n",
    "        x = self.act(x)\n",
    "        x = self.fc2(x)\n",
    "        x = self.act(x)\n",
    "        x = self.fc3(x)\n",
    "\n",
    "        return x\n",
    "    \n",
    "class RectifiedFlow():\n",
    "    def __init__(self, index_pair, model=None, num_steps=1000, adata_active=True):\n",
    "        self.index_pair = index_pair\n",
    "        self.model = model\n",
    "        self.N = num_steps\n",
    "        self.adata_active = adata_active\n",
    "        self.crt_pcadata = np.load(f'pcadata/pcadata_contiguous_{index_pair[0]}_{index_pair[1]}.npy', allow_pickle=True)\n",
    "        self.ref_crt_pcadata = self.crt_pcadata[0][:pcadatalist[index_pair[0]].shape[0]]\n",
    "        self.new_crt_pcadata = self.crt_pcadata[0][pcadatalist[index_pair[0]].shape[0]:]\n",
    "    \n",
    "    def get_train_tuple(self, z0=None, z1=None):\n",
    "        t = torch.rand((z1.shape[0], 1))\n",
    "        # print(t.shape)\n",
    "        # print(z1)\n",
    "        if self.adata_active:\n",
    "            z1 = torch.Tensor(self.new_crt_pcadata[z1])\n",
    "            z0 = torch.Tensor(self.ref_crt_pcadata[z0])\n",
    "        \n",
    "        z_t =  t * z1 + (1. - t) * z0\n",
    "        target = z1 - z0 \n",
    "            \n",
    "        return z_t, t, target\n",
    "\n",
    "    @torch.no_grad()\n",
    "    def sample_ode(self, z0=None, N=None):\n",
    "        ### NOTE: Use Euler method to sample from the learned flow\n",
    "        if N is None:\n",
    "            N = self.N    \n",
    "        dt = 1. / N\n",
    "        traj = [] # to store the trajectory\n",
    "        # print(z0)\n",
    "        z = torch.Tensor(self.ref_crt_pcadata[z0]).detach().clone()\n",
    "        # print(z)\n",
    "        batchsize = z.shape[0]\n",
    "        # z.shape\n",
    "        traj.append(z.detach().clone())\n",
    "        for i in range(N):\n",
    "            t = torch.ones((batchsize,1)) * i / N\n",
    "            # print(z)\n",
    "            pred = self.model(z, t)\n",
    "            z = z.detach().clone() + pred * dt\n",
    "            \n",
    "            traj.append(z.detach().clone())\n",
    "\n",
    "        return traj"
   ]
  },
  {
   "cell_type": "code",
   "execution_count": 8,
   "metadata": {},
   "outputs": [],
   "source": [
    "def train_rectified_flow(rectified_flow, optimizer, pairs, batchsize, inner_iters):\n",
    "    loss_curve = []\n",
    "    for i in trange(inner_iters+1):\n",
    "        optimizer.zero_grad()\n",
    "        indices = torch.randperm(len(pairs))[:batchsize]\n",
    "        batch = pairs[indices]\n",
    "        # print(batch)\n",
    "        z0 = batch[:, 0].detach().clone()\n",
    "        z1 = batch[:, 1].detach().clone()\n",
    "        # print(z0.max())\n",
    "        # print(z1.max())\n",
    "        # print(pcadatalist[1][z1])\n",
    "        z_t, t, target = rectified_flow.get_train_tuple(z0=z0, z1=z1)\n",
    "\n",
    "        pred = rectified_flow.model(z_t, t)\n",
    "        loss = (target - pred).view(pred.shape[0], -1).abs().pow(2).sum(dim=1)\n",
    "        loss = loss.mean()\n",
    "        loss.backward()\n",
    "        \n",
    "        optimizer.step()\n",
    "        loss_curve.append(np.log(loss.item())) ## to store the loss curve\n",
    "\n",
    "    return rectified_flow, loss_curve"
   ]
  },
  {
   "cell_type": "code",
   "execution_count": 9,
   "metadata": {},
   "outputs": [
    {
     "data": {
      "text/plain": [
       "(3449, 400)"
      ]
     },
     "execution_count": 9,
     "metadata": {},
     "output_type": "execute_result"
    }
   ],
   "source": [
    "# index_pair\n",
    "pcadatalist[1].shape"
   ]
  },
  {
   "cell_type": "code",
   "execution_count": 5,
   "metadata": {},
   "outputs": [
    {
     "ename": "NameError",
     "evalue": "name 'RectifiedFlow' is not defined",
     "output_type": "error",
     "traceback": [
      "\u001b[0;31m---------------------------------------------------------------------------\u001b[0m",
      "\u001b[0;31mNameError\u001b[0m                                 Traceback (most recent call last)",
      "\u001b[1;32m/datapool/data2/home/pengxingang/caoyufan/cell_recflow/rectifiedflow.ipynb Cell 16\u001b[0m in \u001b[0;36m<cell line: 5>\u001b[0;34m()\u001b[0m\n\u001b[1;32m      <a href='vscode-notebook-cell://ssh-remote%2B103.242.173.219/datapool/data2/home/pengxingang/caoyufan/cell_recflow/rectifiedflow.ipynb#X20sdnNjb2RlLXJlbW90ZQ%3D%3D?line=1'>2</a>\u001b[0m batchsize \u001b[39m=\u001b[39m \u001b[39m2048\u001b[39m\n\u001b[1;32m      <a href='vscode-notebook-cell://ssh-remote%2B103.242.173.219/datapool/data2/home/pengxingang/caoyufan/cell_recflow/rectifiedflow.ipynb#X20sdnNjb2RlLXJlbW90ZQ%3D%3D?line=2'>3</a>\u001b[0m input_dim \u001b[39m=\u001b[39m \u001b[39m400\u001b[39m\n\u001b[0;32m----> <a href='vscode-notebook-cell://ssh-remote%2B103.242.173.219/datapool/data2/home/pengxingang/caoyufan/cell_recflow/rectifiedflow.ipynb#X20sdnNjb2RlLXJlbW90ZQ%3D%3D?line=4'>5</a>\u001b[0m recFlow \u001b[39m=\u001b[39m RectifiedFlow(index_pair\u001b[39m=\u001b[39mindex_pair, model\u001b[39m=\u001b[39mMLP(input_dim\u001b[39m=\u001b[39minput_dim, hidden_num\u001b[39m=\u001b[39m\u001b[39m1024\u001b[39m), num_steps\u001b[39m=\u001b[39m\u001b[39m1000\u001b[39m)\n\u001b[1;32m      <a href='vscode-notebook-cell://ssh-remote%2B103.242.173.219/datapool/data2/home/pengxingang/caoyufan/cell_recflow/rectifiedflow.ipynb#X20sdnNjb2RlLXJlbW90ZQ%3D%3D?line=5'>6</a>\u001b[0m optimizer \u001b[39m=\u001b[39m torch\u001b[39m.\u001b[39moptim\u001b[39m.\u001b[39mAdam(recFlow\u001b[39m.\u001b[39mmodel\u001b[39m.\u001b[39mparameters(), lr\u001b[39m=\u001b[39m\u001b[39m5e-3\u001b[39m)\n\u001b[1;32m      <a href='vscode-notebook-cell://ssh-remote%2B103.242.173.219/datapool/data2/home/pengxingang/caoyufan/cell_recflow/rectifiedflow.ipynb#X20sdnNjb2RlLXJlbW90ZQ%3D%3D?line=7'>8</a>\u001b[0m recFlow, loss_curve \u001b[39m=\u001b[39m train_rectified_flow(recFlow, optimizer, pairs_train, batchsize, iterations)\n",
      "\u001b[0;31mNameError\u001b[0m: name 'RectifiedFlow' is not defined"
     ]
    }
   ],
   "source": [
    "iterations = 10000\n",
    "batchsize = 2048\n",
    "input_dim = 400\n",
    "\n",
    "recFlow = RectifiedFlow(index_pair=index_pair, model=MLP(input_dim=input_dim, hidden_num=1024), num_steps=1000)\n",
    "optimizer = torch.optim.Adam(recFlow.model.parameters(), lr=5e-3)\n",
    "\n",
    "recFlow, loss_curve = train_rectified_flow(recFlow, optimizer, pairs_train, batchsize, iterations)"
   ]
  },
  {
   "cell_type": "code",
   "execution_count": 33,
   "metadata": {},
   "outputs": [
    {
     "data": {
      "text/plain": [
       "Text(0.5, 1.0, 'Training Loss Curve')"
      ]
     },
     "execution_count": 33,
     "metadata": {},
     "output_type": "execute_result"
    },
    {
     "data": {
      "image/png": "[encoded data removed]",
      "text/plain": [
       "<Figure size 640x480 with 1 Axes>"
      ]
     },
     "metadata": {},
     "output_type": "display_data"
    }
   ],
   "source": [
    "plt.plot(np.linspace(0, iterations, iterations+1), loss_curve[:(iterations+1)])\n",
    "plt.title('Training Loss Curve')"
   ]
  },
  {
   "cell_type": "markdown",
   "metadata": {},
   "source": [
    "# Verification of generated pairing"
   ]
  },
  {
   "cell_type": "code",
   "execution_count": 51,
   "metadata": {},
   "outputs": [
    {
     "ename": "IndexError",
     "evalue": "index 6905 is out of bounds for axis 0 with size 5061",
     "output_type": "error",
     "traceback": [
      "\u001b[0;31m---------------------------------------------------------------------------\u001b[0m",
      "\u001b[0;31mIndexError\u001b[0m                                Traceback (most recent call last)",
      "\u001b[1;32m/datapool/data2/home/pengxingang/caoyufan/cell_recflow/rectifiedflow.ipynb Cell 19\u001b[0m in \u001b[0;36m<cell line: 3>\u001b[0;34m()\u001b[0m\n\u001b[1;32m      <a href='vscode-notebook-cell://ssh-remote%2B103.242.173.219/datapool/data2/home/pengxingang/caoyufan/cell_recflow/rectifiedflow.ipynb#X24sdnNjb2RlLXJlbW90ZQ%3D%3D?line=0'>1</a>\u001b[0m \u001b[39mfrom\u001b[39;00m \u001b[39mscipy\u001b[39;00m \u001b[39mimport\u001b[39;00m stats\n\u001b[0;32m----> <a href='vscode-notebook-cell://ssh-remote%2B103.242.173.219/datapool/data2/home/pengxingang/caoyufan/cell_recflow/rectifiedflow.ipynb#X24sdnNjb2RlLXJlbW90ZQ%3D%3D?line=2'>3</a>\u001b[0m ref_mnn \u001b[39m=\u001b[39m ref_crt_pcadata[pairs_train[:, \u001b[39m0\u001b[39;49m]]\n\u001b[1;32m      <a href='vscode-notebook-cell://ssh-remote%2B103.242.173.219/datapool/data2/home/pengxingang/caoyufan/cell_recflow/rectifiedflow.ipynb#X24sdnNjb2RlLXJlbW90ZQ%3D%3D?line=3'>4</a>\u001b[0m new_mnn \u001b[39m=\u001b[39m new_crt_pcadata[pairs_train[:, \u001b[39m1\u001b[39m]]\n\u001b[1;32m      <a href='vscode-notebook-cell://ssh-remote%2B103.242.173.219/datapool/data2/home/pengxingang/caoyufan/cell_recflow/rectifiedflow.ipynb#X24sdnNjb2RlLXJlbW90ZQ%3D%3D?line=4'>5</a>\u001b[0m mnn_corr \u001b[39m=\u001b[39m mnn_pval \u001b[39m=\u001b[39m torch\u001b[39m.\u001b[39mzeros(\u001b[39mlen\u001b[39m(ref_mnn))\n",
      "\u001b[0;31mIndexError\u001b[0m: index 6905 is out of bounds for axis 0 with size 5061"
     ]
    }
   ],
   "source": [
    "from scipy import stats\n",
    "\n",
    "ref_mnn = ref_crt_pcadata[pairs_train[:, 0]]\n",
    "new_mnn = new_crt_pcadata[pairs_train[:, 1]]\n",
    "mnn_corr = mnn_pval = torch.zeros(len(ref_mnn))\n",
    "for i in range(len(ref_mnn)):\n",
    "    mnn_corr[i] = stats.pearsonr(ref_mnn[i], new_mnn[i]).statistic\n",
    "    # mnn_corr[i] = stats.spearmanr(ref_mnn[i], new_mnn[i]).correlation\n",
    "\n",
    "plt.title('Pearson Correlation of MNN Pairs')\n",
    "# plt.title('Spearman Correlation of MNN Pairs')\n",
    "plt.scatter(np.arange(len(mnn_corr)), mnn_corr)\n",
    "ref_mnn.shape"
   ]
  },
  {
   "cell_type": "code",
   "execution_count": 67,
   "metadata": {},
   "outputs": [
    {
     "data": {
      "text/plain": [
       "tensor(0.8031)"
      ]
     },
     "execution_count": 67,
     "metadata": {},
     "output_type": "execute_result"
    }
   ],
   "source": [
    "# ref_crt_pcadata[mnn_pair_ref_new_pair_indices[:, 0]]\n",
    "# ref_mnn[0].shape\n",
    "# stats.pearsonr(ref_mnn[0], new_mnn[0])\n",
    "mnn_corr[0]= stats.pearsonr(ref_mnn[0], new_mnn[0]).statistic\n",
    "mnn_corr[0]"
   ]
  },
  {
   "cell_type": "code",
   "execution_count": 60,
   "metadata": {},
   "outputs": [
    {
     "data": {
      "text/plain": [
       "0.7339924976997665"
      ]
     },
     "execution_count": 60,
     "metadata": {},
     "output_type": "execute_result"
    }
   ],
   "source": [
    "np.sum((ref_crt_pcadata[mnn_pair_ref_new_pair_indices[:, 0]] - new_crt_pcadata[mnn_pair_ref_new_pair_indices[:, 1]]) / new_crt_pcadata[mnn_pair_ref_new_pair_indices[:, 1]] < 0.05) / 14129 / 400"
   ]
  },
  {
   "cell_type": "code",
   "execution_count": 34,
   "metadata": {},
   "outputs": [],
   "source": [
    "traj = recFlow.sample_ode(z0=np.arange(ref_crt_pcadata.shape[0]), N=1000)\n",
    "recflow_descendant = traj[-1]"
   ]
  },
  {
   "cell_type": "code",
   "execution_count": 35,
   "metadata": {},
   "outputs": [],
   "source": [
    "dot_sim = torch.matmul(recflow_descendant, torch.tensor(new_crt_pcadata.T))\n",
    "cos_sim = dot_sim / torch.unsqueeze(torch.norm(recflow_descendant, p=2, dim=1), 1) / torch.unsqueeze(torch.norm(torch.tensor(new_crt_pcadata.T), p=2, dim=0), 0)"
   ]
  },
  {
   "cell_type": "code",
   "execution_count": 36,
   "metadata": {},
   "outputs": [],
   "source": [
    "# time_pair = (days[index_pair[0]], days[index_pair[1]])\n",
    "PATH_TMAP = 'tmaps/tmaps_0.0_0.5.h5ad'\n",
    "# tmaps = wot.io.read_dataset(\"tmaps_\" + \"%.1f\"%time_pair[0] + \"_\" + \"%.1f\"%time_pair[1]})\n",
    "tmaps = wot.io.read_dataset(PATH_TMAP)\n",
    "# seta = set(np.argsort(tmaps.X[0])[-50:])\n",
    "# print(seta)"
   ]
  },
  {
   "cell_type": "code",
   "execution_count": 82,
   "metadata": {},
   "outputs": [],
   "source": [
    "from scipy import stats\n",
    "\n",
    "# result = stats.spearmanr(torch.tensor(tmaps.X), dot_sim, axis=1)\n",
    "tensor_tmapX = torch.tensor(tmaps.X)\n",
    "corrs = pvals = torch.zeros(ref_crt_pcadata.shape[0])\n",
    "for i in range(ref_crt_pcadata.shape[0]):\n",
    "    # corrs[i], pvals[i] = stats.spearmanr(tensor_tmapX[i], cos_sim[i])\n",
    "    # corrs[i] = stats.spearmanr(tensor_tmapX[i], cos_sim[i]).correlation\n",
    "    corrs[i] = stats.pearsonr(tensor_tmapX[i], cos_sim[i]).statistic\n",
    "# tensor_tmapX[i].shape"
   ]
  },
  {
   "cell_type": "code",
   "execution_count": 83,
   "metadata": {},
   "outputs": [
    {
     "data": {
      "text/plain": [
       "<matplotlib.collections.PathCollection at 0x7fb1024c5bb0>"
      ]
     },
     "execution_count": 83,
     "metadata": {},
     "output_type": "execute_result"
    },
    {
     "data": {
      "image/png": "[encoded data removed]",
      "text/plain": [
       "<Figure size 640x480 with 1 Axes>"
      ]
     },
     "metadata": {},
     "output_type": "display_data"
    }
   ],
   "source": [
    "plt.xlabel('Cell Index')\n",
    "plt.ylabel('Correlation')\n",
    "plt.title('Pearson Correlation')\n",
    "plt.scatter(np.arange(ref_crt_pcadata.shape[0]), corrs)"
   ]
  },
  {
   "cell_type": "code",
   "execution_count": 92,
   "metadata": {},
   "outputs": [
    {
     "data": {
      "text/plain": [
       "(array([  15.,   70.,  247.,  754.,  881., 1004.,  863.,  506.,  179.,\n",
       "          37.]),\n",
       " array([-0.16226271, -0.09893847, -0.03561424,  0.02770999,  0.09103423,\n",
       "         0.15435846,  0.21768269,  0.28100693,  0.34433118,  0.40765539,\n",
       "         0.47097963]),\n",
       " <BarContainer object of 10 artists>)"
      ]
     },
     "execution_count": 92,
     "metadata": {},
     "output_type": "execute_result"
    },
    {
     "data": {
      "image/png": "[encoded data removed]",
      "text/plain": [
       "<Figure size 640x480 with 1 Axes>"
      ]
     },
     "metadata": {},
     "output_type": "display_data"
    }
   ],
   "source": [
    "plt.title('Spearman Correlation Day 0, 0.5')\n",
    "plt.hist(corrs)"
   ]
  },
  {
   "cell_type": "code",
   "execution_count": 93,
   "metadata": {},
   "outputs": [
    {
     "data": {
      "text/plain": [
       "(array([  15.,   70.,  247.,  754.,  881., 1004.,  863.,  506.,  179.,\n",
       "          37.]),\n",
       " array([-0.16226271, -0.09893847, -0.03561424,  0.02770999,  0.09103423,\n",
       "         0.15435846,  0.21768269,  0.28100693,  0.34433118,  0.40765539,\n",
       "         0.47097963]),\n",
       " <BarContainer object of 10 artists>)"
      ]
     },
     "execution_count": 93,
     "metadata": {},
     "output_type": "execute_result"
    },
    {
     "data": {
      "image/png": "[encoded data removed]",
      "text/plain": [
       "<Figure size 640x480 with 1 Axes>"
      ]
     },
     "metadata": {},
     "output_type": "display_data"
    }
   ],
   "source": [
    "plt.title('Pearson Correlation Day 0, 0.5')\n",
    "plt.hist(corrs)"
   ]
  },
  {
   "cell_type": "markdown",
   "metadata": {},
   "source": [
    "# Co-training of flows over time"
   ]
  },
  {
   "cell_type": "code",
   "execution_count": 5,
   "metadata": {},
   "outputs": [],
   "source": [
    "import utils\n",
    "from utils import *\n",
    "from rectifiedflow import *\n",
    "\n",
    "# index_pair = (1, 2)\n",
    "n_obs_list = [pcadatalist[i].shape[0] for i in range(len(pcadatalist))]\n",
    "# intersection_1_2, unpaired_ref_cell_indices_1_2, unpaired_new_cell_indices_1_2 = NNVerification(index_pair)\n",
    "# pairs_train_1_2, ref_crt_pcadata_1_2, new_crt_pcadata_1_2 = utils.gen_pairs_train(index_pair, n_obs_list, unpaired_ref_cell_indices_1_2, unpaired_new_cell_indices_1_2)\n",
    "# iterations = 10000\n",
    "# batchsize = 2048\n",
    "# input_dim = 400\n",
    "\n",
    "# recFlow = RectifiedFlow(index_pair=index_pair, n_obs_list=n_obs_list, model=MLP(input_dim=input_dim, hidden_num=1024), num_steps=1000)\n",
    "# optimizer = torch.optim.Adam(recFlow.model.parameters(), lr=5e-3)\n",
    "\n",
    "# recFlow, loss_curve = train_rectified_flow(recFlow, optimizer, pairs_train_1_2, batchsize, iterations)"
   ]
  },
  {
   "cell_type": "code",
   "execution_count": 5,
   "metadata": {},
   "outputs": [],
   "source": [
    "recFlow_0_1, loss_curve_0_1 = recFlow, loss_curve"
   ]
  },
  {
   "cell_type": "code",
   "execution_count": 6,
   "metadata": {},
   "outputs": [
    {
     "data": {
      "text/plain": [
       "[<matplotlib.lines.Line2D at 0x7f8962003af0>]"
      ]
     },
     "execution_count": 6,
     "metadata": {},
     "output_type": "execute_result"
    },
    {
     "data": {
      "image/png": "[encoded data removed]",
      "text/plain": [
       "<Figure size 432x288 with 1 Axes>"
      ]
     },
     "metadata": {
      "needs_background": "light"
     },
     "output_type": "display_data"
    }
   ],
   "source": [
    "plt.plot(loss_curve_0_1)"
   ]
  },
  {
   "cell_type": "code",
   "execution_count": 6,
   "metadata": {},
   "outputs": [
    {
     "ename": "TypeError",
     "evalue": "RectifiedFlow.__init__() got an unexpected keyword argument 'index_pair'",
     "output_type": "error",
     "traceback": [
      "\u001b[0;31m---------------------------------------------------------------------------\u001b[0m",
      "\u001b[0;31mTypeError\u001b[0m                                 Traceback (most recent call last)",
      "\u001b[1;32m/datapool/data2/home/pengxingang/caoyufan/cell_recflow/rectifiedflow.ipynb Cell 33\u001b[0m in \u001b[0;36m<cell line: 15>\u001b[0;34m()\u001b[0m\n\u001b[1;32m     <a href='vscode-notebook-cell://ssh-remote%2B103.242.173.219/datapool/data2/home/pengxingang/caoyufan/cell_recflow/rectifiedflow.ipynb#X44sdnNjb2RlLXJlbW90ZQ%3D%3D?line=12'>13</a>\u001b[0m device \u001b[39m=\u001b[39m torch\u001b[39m.\u001b[39mdevice(\u001b[39m\"\u001b[39m\u001b[39mcuda:0\u001b[39m\u001b[39m\"\u001b[39m \u001b[39mif\u001b[39;00m torch\u001b[39m.\u001b[39mcuda\u001b[39m.\u001b[39mis_available() \u001b[39melse\u001b[39;00m \u001b[39m\"\u001b[39m\u001b[39mcpu\u001b[39m\u001b[39m\"\u001b[39m)\n\u001b[1;32m     <a href='vscode-notebook-cell://ssh-remote%2B103.242.173.219/datapool/data2/home/pengxingang/caoyufan/cell_recflow/rectifiedflow.ipynb#X44sdnNjb2RlLXJlbW90ZQ%3D%3D?line=14'>15</a>\u001b[0m \u001b[39mfor\u001b[39;00m hidden_dim \u001b[39min\u001b[39;00m hidden_dim_cand:\n\u001b[0;32m---> <a href='vscode-notebook-cell://ssh-remote%2B103.242.173.219/datapool/data2/home/pengxingang/caoyufan/cell_recflow/rectifiedflow.ipynb#X44sdnNjb2RlLXJlbW90ZQ%3D%3D?line=15'>16</a>\u001b[0m     recFlow \u001b[39m=\u001b[39m RectifiedFlow(index_pair\u001b[39m=\u001b[39;49mindex_pair, n_obs_list\u001b[39m=\u001b[39;49mn_obs_list, model\u001b[39m=\u001b[39;49mMLP(input_dim\u001b[39m=\u001b[39;49minput_dim, hidden_num\u001b[39m=\u001b[39;49mhidden_dim), num_steps\u001b[39m=\u001b[39;49m\u001b[39m1000\u001b[39;49m)\n\u001b[1;32m     <a href='vscode-notebook-cell://ssh-remote%2B103.242.173.219/datapool/data2/home/pengxingang/caoyufan/cell_recflow/rectifiedflow.ipynb#X44sdnNjb2RlLXJlbW90ZQ%3D%3D?line=16'>17</a>\u001b[0m     optimizer \u001b[39m=\u001b[39m torch\u001b[39m.\u001b[39moptim\u001b[39m.\u001b[39mAdam(recFlow\u001b[39m.\u001b[39mmodel\u001b[39m.\u001b[39mparameters(), lr\u001b[39m=\u001b[39m\u001b[39m5e-3\u001b[39m)\n\u001b[1;32m     <a href='vscode-notebook-cell://ssh-remote%2B103.242.173.219/datapool/data2/home/pengxingang/caoyufan/cell_recflow/rectifiedflow.ipynb#X44sdnNjb2RlLXJlbW90ZQ%3D%3D?line=17'>18</a>\u001b[0m     recflow, loss_curve \u001b[39m=\u001b[39m train_rectified_flow(recFlow, optimizer, pairs_train_0_1, batchsize, iterations)\n",
      "\u001b[0;31mTypeError\u001b[0m: RectifiedFlow.__init__() got an unexpected keyword argument 'index_pair'"
     ]
    }
   ],
   "source": [
    "hidden_dim_cand = [256, 512, 1024, 2048]\n",
    "num_step_cand = [100, 1000, 10000]\n",
    "\n",
    "index_pair = (0, 1)\n",
    "# n_obs_list = [pcadatalist[i].shape[0] for i in range(len(pcadatalist))]\n",
    "# intersection_0_1, unpaired_ref_cell_indices_0_1, unpaired_new_cell_indices_0_1 = NNVerification(index_pair)\n",
    "# pairs_train_0_1, ref_crt_pcadata_0_1, new_crt_pcadata_0_1 = utils.gen_pairs_train(index_pair, n_obs_list, unpaired_ref_cell_indices_0_1, unpaired_new_cell_indices_0_1)\n",
    "iterations = 10000\n",
    "batchsize = 2048\n",
    "input_dim = 400\n",
    "recFlow_dict = {}\n",
    "loss_curve_dict = {}\n",
    "device = torch.device(\"cuda:0\" if torch.cuda.is_available() else \"cpu\")\n",
    "\n",
    "for hidden_dim in hidden_dim_cand:\n",
    "    recFlow = RectifiedFlow(index_pair=index_pair, n_obs_list=n_obs_list, model=MLP(input_dim=input_dim, hidden_num=hidden_dim), num_steps=1000)\n",
    "    optimizer = torch.optim.Adam(recFlow.model.parameters(), lr=5e-3)\n",
    "    recflow, loss_curve = train_rectified_flow(recFlow, optimizer, pairs_train_0_1, batchsize, iterations)\n",
    "    recFlow_dict[f'hidden_dim_{hidden_dim}'], loss_curve_dict[f'hidden_dim_{hidden_dim}'] = recflow, loss_curve\n",
    "for num_step in num_step_cand:\n",
    "    recFlow = RectifiedFlow(index_pair=index_pair, n_obs_list=n_obs_list, model=MLP(input_dim=input_dim, hidden_num=1024), num_steps=num_step)\n",
    "    optimizer = torch.optim.Adam(recFlow.model.parameters(), lr=5e-3)\n",
    "\n",
    "    recFlow_dict[f'num_step_{num_step}'], loss_curve_dict[f'num_step_{num_step}'] = train_rectified_flow(recFlow, optimizer, pairs_train_0_1, batchsize, iterations)\n"
   ]
  },
  {
   "cell_type": "code",
   "execution_count": 10,
   "metadata": {},
   "outputs": [
    {
     "ename": "AttributeError",
     "evalue": "Can't pickle local object 'MLP.__init__.<locals>.<lambda>'",
     "output_type": "error",
     "traceback": [
      "\u001b[0;31m---------------------------------------------------------------------------\u001b[0m",
      "\u001b[0;31mAttributeError\u001b[0m                            Traceback (most recent call last)",
      "\u001b[1;32m/datapool/data2/home/pengxingang/caoyufan/cell_recflow/rectifiedflow.ipynb Cell 34\u001b[0m in \u001b[0;36m<cell line: 4>\u001b[0;34m()\u001b[0m\n\u001b[1;32m      <a href='vscode-notebook-cell://ssh-remote%2B103.242.173.219/datapool/data2/home/pengxingang/caoyufan/cell_recflow/rectifiedflow.ipynb#Y122sdnNjb2RlLXJlbW90ZQ%3D%3D?line=0'>1</a>\u001b[0m \u001b[39mimport\u001b[39;00m \u001b[39mpickle\u001b[39;00m\n\u001b[1;32m      <a href='vscode-notebook-cell://ssh-remote%2B103.242.173.219/datapool/data2/home/pengxingang/caoyufan/cell_recflow/rectifiedflow.ipynb#Y122sdnNjb2RlLXJlbW90ZQ%3D%3D?line=2'>3</a>\u001b[0m f \u001b[39m=\u001b[39m \u001b[39mopen\u001b[39m(\u001b[39m'\u001b[39m\u001b[39mrecFlow.pkl\u001b[39m\u001b[39m'\u001b[39m, \u001b[39m\"\u001b[39m\u001b[39mwb\u001b[39m\u001b[39m\"\u001b[39m)\n\u001b[0;32m----> <a href='vscode-notebook-cell://ssh-remote%2B103.242.173.219/datapool/data2/home/pengxingang/caoyufan/cell_recflow/rectifiedflow.ipynb#Y122sdnNjb2RlLXJlbW90ZQ%3D%3D?line=3'>4</a>\u001b[0m pickle\u001b[39m.\u001b[39;49mdump(recFlow_dict, f)\n\u001b[1;32m      <a href='vscode-notebook-cell://ssh-remote%2B103.242.173.219/datapool/data2/home/pengxingang/caoyufan/cell_recflow/rectifiedflow.ipynb#Y122sdnNjb2RlLXJlbW90ZQ%3D%3D?line=4'>5</a>\u001b[0m f\u001b[39m.\u001b[39mclose()\n",
      "\u001b[0;31mAttributeError\u001b[0m: Can't pickle local object 'MLP.__init__.<locals>.<lambda>'"
     ]
    }
   ],
   "source": [
    "import pickle\n",
    "\n",
    "f = open('recFlow.pkl', \"wb\")\n",
    "pickle.dump(recFlow_dict, f)\n",
    "f.close()"
   ]
  },
  {
   "cell_type": "code",
   "execution_count": 17,
   "metadata": {},
   "outputs": [
    {
     "name": "stderr",
     "output_type": "stream",
     "text": [
      "/tmp/ipykernel_231940/1225791417.py:18: UserWarning: To copy construct from a tensor, it is recommended to use sourceTensor.clone().detach() or sourceTensor.clone().detach().requires_grad_(True), rather than torch.tensor(sourceTensor).\n",
      "  dot_sim = torch.matmul(recflow_descendant, torch.tensor(new_crt_pcadata_0_1.T))\n",
      "/tmp/ipykernel_231940/1225791417.py:19: UserWarning: To copy construct from a tensor, it is recommended to use sourceTensor.clone().detach() or sourceTensor.clone().detach().requires_grad_(True), rather than torch.tensor(sourceTensor).\n",
      "  cos_sim = dot_sim / torch.unsqueeze(torch.norm(recflow_descendant, p=2, dim=1), 1) / torch.unsqueeze(torch.norm(torch.tensor(new_crt_pcadata_0_1.T), p=2, dim=0), 0)\n"
     ]
    },
    {
     "data": {
      "image/png": "[encoded data removed]",
      "text/plain": [
       "<Figure size 864x2160 with 7 Axes>"
      ]
     },
     "metadata": {
      "needs_background": "light"
     },
     "output_type": "display_data"
    }
   ],
   "source": [
    "from scipy import stats\n",
    "\n",
    "iter = 1\n",
    "plt.figure(figsize=(12, 30))\n",
    "# for key, item in loss_curve_dict.items():\n",
    "#     plt.subplot(7, 1, i)\n",
    "#     plt.title(key)\n",
    "#     plt.plot(item)\n",
    "#     i += 1\n",
    "PATH_TMAP = 'tmaps/tmaps_0.0_0.5.h5ad'\n",
    "tmaps = wot.io.read_dataset(PATH_TMAP)\n",
    "tensor_tmapX = torch.tensor(tmaps.X)\n",
    "# new_crt_pcadata_0_1 = new_crt_pcadata_0_1.cpu()\n",
    "\n",
    "for key, item in recFlow_dict.items():\n",
    "    traj = recFlow.sample_ode(z0=np.arange(ref_crt_pcadata_0_1.shape[0]), N=1000)\n",
    "    recflow_descendant = traj[-1].cpu()\n",
    "    dot_sim = torch.matmul(recflow_descendant, torch.tensor(new_crt_pcadata_0_1.T))\n",
    "    cos_sim = dot_sim / torch.unsqueeze(torch.norm(recflow_descendant, p=2, dim=1), 1) / torch.unsqueeze(torch.norm(torch.tensor(new_crt_pcadata_0_1.T), p=2, dim=0), 0)\n",
    "    corrs = torch.zeros(ref_crt_pcadata_0_1.shape[0])\n",
    "    for i in range(ref_crt_pcadata_0_1.shape[0]):\n",
    "        # corrs[i] = stats.pearsonr(tensor_tmapX[i], cos_sim[i]).statistic\n",
    "        corrs[i] = stats.spearmanr(tensor_tmapX[i], cos_sim[i]).correlation\n",
    "    plt.subplot(7, 1, iter)\n",
    "    plt.title(key)\n",
    "    plt.hist(corrs)\n",
    "    iter += 1\n",
    "    "
   ]
  },
  {
   "cell_type": "code",
   "execution_count": 86,
   "metadata": {},
   "outputs": [
    {
     "name": "stdout",
     "output_type": "stream",
     "text": [
      "Time pair: day 0.0, day 0.5\n",
      "4556\n",
      "3449\n",
      "Average intersection ratio: 0.7094773728284611\n",
      "Time pair: day 0.5, day 1.0\n",
      "3449\n",
      "3648\n",
      "Average intersection ratio: 0.6392277810012297\n",
      "Time pair: day 1.0, day 1.5\n",
      "3648\n",
      "1956\n",
      "Average intersection ratio: 0.7074328345660762\n",
      "Time pair: day 1.5, day 2.0\n",
      "1956\n",
      "6981\n",
      "Average intersection ratio: 0.8326937497787211\n",
      "Time pair: day 2.0, day 2.5\n",
      "6981\n",
      "6734\n",
      "Average intersection ratio: 0.8048882848167077\n",
      "Time pair: day 2.5, day 3.0\n",
      "6734\n",
      "6777\n",
      "Average intersection ratio: 0.7245922796804378\n",
      "Time pair: day 3.0, day 3.5\n",
      "6777\n",
      "7355\n",
      "Average intersection ratio: 0.8905577593369152\n",
      "Time pair: day 3.5, day 4.0\n",
      "7355\n",
      "8962\n",
      "Average intersection ratio: 0.7481793077940243\n",
      "Time pair: day 4.0, day 4.5\n",
      "8962\n",
      "7127\n",
      "Average intersection ratio: 0.7264315371983588\n",
      "Time pair: day 4.5, day 5.0\n",
      "7127\n",
      "7227\n",
      "Average intersection ratio: 0.880552093526264\n",
      "Time pair: day 5.0, day 5.5\n",
      "7227\n",
      "6550\n",
      "Average intersection ratio: 0.9476326820431032\n",
      "Time pair: day 5.5, day 6.0\n",
      "6550\n",
      "8422\n",
      "Average intersection ratio: 0.881148377627256\n",
      "Time pair: day 6.0, day 6.5\n",
      "8422\n",
      "3111\n",
      "Average intersection ratio: 0.8558851226095351\n",
      "Time pair: day 6.5, day 7.0\n",
      "3111\n",
      "6507\n",
      "Average intersection ratio: 0.8244335175531899\n",
      "Time pair: day 7.0, day 7.5\n",
      "6507\n",
      "5061\n",
      "Average intersection ratio: 0.9473010290692447\n",
      "Time pair: day 7.5, day 8.0\n",
      "5061\n",
      "3815\n",
      "Average intersection ratio: 0.881512180779644\n",
      "Time pair: day 8.0, day 8.25\n",
      "3815\n",
      "7666\n",
      "Average intersection ratio: 0.7896827209573217\n",
      "Time pair: day 8.25, day 8.5\n",
      "7666\n",
      "6400\n",
      "Average intersection ratio: 0.884840149051572\n",
      "Time pair: day 8.5, day 8.75\n",
      "6400\n",
      "6319\n",
      "Average intersection ratio: 0.9191382831515891\n",
      "Time pair: day 8.75, day 9.0\n",
      "6319\n",
      "5016\n",
      "Average intersection ratio: 0.8750696579380732\n",
      "Time pair: day 9.0, day 9.5\n",
      "5016\n",
      "3849\n",
      "Average intersection ratio: 0.8776918052176736\n",
      "Time pair: day 9.5, day 10.0\n",
      "3849\n",
      "3931\n",
      "Average intersection ratio: 0.9297874719364455\n",
      "Time pair: day 10.0, day 10.5\n",
      "3931\n",
      "3396\n",
      "Average intersection ratio: 0.8773456188580258\n",
      "Time pair: day 10.5, day 11.0\n",
      "3396\n",
      "3579\n",
      "Average intersection ratio: 0.9356202804974207\n",
      "Time pair: day 11.0, day 11.5\n",
      "3579\n",
      "3543\n",
      "Average intersection ratio: 0.9386619915030515\n",
      "Time pair: day 11.5, day 12.0\n",
      "3543\n",
      "3868\n",
      "Average intersection ratio: 0.9786321623402084\n",
      "Time pair: day 12.0, day 12.5\n",
      "3868\n",
      "3610\n",
      "Average intersection ratio: 0.9480756721217843\n",
      "Time pair: day 12.5, day 13.0\n",
      "3610\n",
      "3443\n",
      "Average intersection ratio: 0.974665934916994\n",
      "Time pair: day 13.0, day 13.5\n",
      "3443\n",
      "3637\n",
      "Average intersection ratio: 0.9584994181298503\n",
      "Time pair: day 13.5, day 14.0\n",
      "3637\n",
      "7594\n",
      "Average intersection ratio: 0.9173882081185648\n",
      "Time pair: day 14.0, day 14.5\n",
      "7594\n",
      "6849\n",
      "Average intersection ratio: 0.9763280329605374\n",
      "Time pair: day 14.5, day 15.0\n",
      "6849\n",
      "8199\n",
      "Average intersection ratio: 0.9380483645914987\n",
      "Time pair: day 15.0, day 15.5\n",
      "8199\n",
      "12416\n",
      "Average intersection ratio: 0.9056450920723198\n",
      "Time pair: day 15.5, day 16.0\n",
      "12416\n",
      "9613\n",
      "Average intersection ratio: 0.9449813226567001\n",
      "Time pair: day 16.0, day 16.5\n",
      "9613\n",
      "11455\n",
      "Average intersection ratio: 0.9133728357842764\n",
      "Time pair: day 16.5, day 17.0\n",
      "11455\n",
      "8110\n",
      "Average intersection ratio: 0.973058490578564\n",
      "Time pair: day 17.0, day 17.5\n",
      "8110\n",
      "8118\n",
      "Average intersection ratio: 0.9759496310195169\n",
      "Time pair: day 17.5, day 18.0\n",
      "8118\n",
      "7436\n",
      "Average intersection ratio: 0.955398949423411\n"
     ]
    }
   ],
   "source": [
    "intersection_list = unpaired_ref_cells_list = unpaired_new_cells_list = []\n",
    "for index in range(len(days) - 1):\n",
    "    intersection, unpaired_ref_cells, unpaired_new_cells = NNVerification(index_pair=(index, index + 1))\n",
    "    intersection_list.append(intersection)\n",
    "    unpaired_ref_cells_list.append(unpaired_ref_cells)\n",
    "    unpaired_new_cells_list.append(unpaired_new_cells)\n",
    "    np.count_nonzero(intersection > 0.5) / len(intersection)\n",
    "    "
   ]
  },
  {
   "cell_type": "code",
   "execution_count": 7,
   "metadata": {},
   "outputs": [
    {
     "name": "stdout",
     "output_type": "stream",
     "text": [
      "Loading from pcadata/0_1.csv\n",
      "Loading from pcadata/pcadata_contiguous_0_1.npy\n"
     ]
    },
    {
     "ename": "KeyboardInterrupt",
     "evalue": "",
     "output_type": "error",
     "traceback": [
      "\u001b[0;31m---------------------------------------------------------------------------\u001b[0m",
      "\u001b[0;31mKeyboardInterrupt\u001b[0m                         Traceback (most recent call last)",
      "\u001b[1;32m/datapool/data2/home/pengxingang/caoyufan/cell_recflow/rectifiedflow.ipynb Cell 37\u001b[0m in \u001b[0;36m<cell line: 9>\u001b[0;34m()\u001b[0m\n\u001b[1;32m      <a href='vscode-notebook-cell://ssh-remote%2B103.242.173.219/datapool/data2/home/pengxingang/caoyufan/cell_recflow/rectifiedflow.ipynb#X51sdnNjb2RlLXJlbW90ZQ%3D%3D?line=6'>7</a>\u001b[0m pairs_train \u001b[39m=\u001b[39m \u001b[39mNone\u001b[39;00m\n\u001b[1;32m      <a href='vscode-notebook-cell://ssh-remote%2B103.242.173.219/datapool/data2/home/pengxingang/caoyufan/cell_recflow/rectifiedflow.ipynb#X51sdnNjb2RlLXJlbW90ZQ%3D%3D?line=8'>9</a>\u001b[0m \u001b[39mfor\u001b[39;00m index_pair \u001b[39min\u001b[39;00m index_pair_list:\n\u001b[0;32m---> <a href='vscode-notebook-cell://ssh-remote%2B103.242.173.219/datapool/data2/home/pengxingang/caoyufan/cell_recflow/rectifiedflow.ipynb#X51sdnNjb2RlLXJlbW90ZQ%3D%3D?line=9'>10</a>\u001b[0m     intersection, unpaired_ref_cell_indices, unpaired_new_cell_indices \u001b[39m=\u001b[39m NNVerification(index_pair)\n\u001b[1;32m     <a href='vscode-notebook-cell://ssh-remote%2B103.242.173.219/datapool/data2/home/pengxingang/caoyufan/cell_recflow/rectifiedflow.ipynb#X51sdnNjb2RlLXJlbW90ZQ%3D%3D?line=10'>11</a>\u001b[0m     tmp_pairs_train, ref_crt_pcadata, new_crt_pcadata \u001b[39m=\u001b[39m gen_pairs_train(index_pair, n_obs_list, unpaired_ref_cell_indices, unpaired_new_cell_indices)\n\u001b[1;32m     <a href='vscode-notebook-cell://ssh-remote%2B103.242.173.219/datapool/data2/home/pengxingang/caoyufan/cell_recflow/rectifiedflow.ipynb#X51sdnNjb2RlLXJlbW90ZQ%3D%3D?line=11'>12</a>\u001b[0m     \u001b[39mif\u001b[39;00m pairs_train \u001b[39mis\u001b[39;00m \u001b[39mNone\u001b[39;00m:\n",
      "File \u001b[0;32m~/caoyufan/cell_recflow/utils.py:25\u001b[0m, in \u001b[0;36mNNVerification\u001b[0;34m(index_pair, n_neighbors, do_concatenate, FULL_DS_PATH, CELL_DAYS_PATH, split_mode)\u001b[0m\n\u001b[1;32m     22\u001b[0m crt_pcadata \u001b[39m=\u001b[39m np\u001b[39m.\u001b[39mload(crt_path, allow_pickle\u001b[39m=\u001b[39m\u001b[39mTrue\u001b[39;00m)\n\u001b[1;32m     23\u001b[0m \u001b[39m# print(crt_pcadata)\u001b[39;00m\n\u001b[0;32m---> 25\u001b[0m adata \u001b[39m=\u001b[39m wot\u001b[39m.\u001b[39;49mio\u001b[39m.\u001b[39;49mread_dataset(FULL_DS_PATH, obs\u001b[39m=\u001b[39;49m[CELL_DAYS_PATH])\n\u001b[1;32m     26\u001b[0m obs_unique \u001b[39m=\u001b[39m \u001b[39mfilter\u001b[39m(\u001b[39mNone\u001b[39;00m, adata\u001b[39m.\u001b[39mobs[split_mode]\u001b[39m.\u001b[39munique())\n\u001b[1;32m     27\u001b[0m adata_indices \u001b[39m=\u001b[39m [adata\u001b[39m.\u001b[39mobs[split_mode]\u001b[39m.\u001b[39misin([obs_uni_ele]) \u001b[39mfor\u001b[39;00m obs_uni_ele \u001b[39min\u001b[39;00m obs_unique]\n",
      "File \u001b[0;32m~/anaconda3/envs/cell_rec/lib/python3.10/site-packages/wot/io/io.py:404\u001b[0m, in \u001b[0;36mread_dataset\u001b[0;34m(path, obs, var, obs_filter, var_filter, **keywords)\u001b[0m\n\u001b[1;32m    402\u001b[0m     adata \u001b[39m=\u001b[39m anndata\u001b[39m.\u001b[39mAnnData(X\u001b[39m=\u001b[39mdf\u001b[39m.\u001b[39mvalues, obs\u001b[39m=\u001b[39mpd\u001b[39m.\u001b[39mDataFrame(index\u001b[39m=\u001b[39mdf\u001b[39m.\u001b[39mindex), var\u001b[39m=\u001b[39mpd\u001b[39m.\u001b[39mDataFrame(index\u001b[39m=\u001b[39mdf\u001b[39m.\u001b[39mcolumns))\n\u001b[1;32m    403\u001b[0m \u001b[39melif\u001b[39;00m ext \u001b[39m==\u001b[39m \u001b[39m'\u001b[39m\u001b[39m.h5ad\u001b[39m\u001b[39m'\u001b[39m:\n\u001b[0;32m--> 404\u001b[0m     adata \u001b[39m=\u001b[39m anndata\u001b[39m.\u001b[39;49mread(path)\n\u001b[1;32m    405\u001b[0m \u001b[39melif\u001b[39;00m ext \u001b[39m==\u001b[39m \u001b[39m'\u001b[39m\u001b[39m.loom\u001b[39m\u001b[39m'\u001b[39m:\n\u001b[1;32m    406\u001b[0m     adata \u001b[39m=\u001b[39m anndata\u001b[39m.\u001b[39mread_loom(path)\n",
      "File \u001b[0;32m~/anaconda3/envs/cell_rec/lib/python3.10/site-packages/anndata/_io/h5ad.py:238\u001b[0m, in \u001b[0;36mread_h5ad\u001b[0;34m(filename, backed, as_sparse, as_sparse_fmt, chunk_size)\u001b[0m\n\u001b[1;32m    236\u001b[0m         d[k] \u001b[39m=\u001b[39m read_dataframe(f[k])\n\u001b[1;32m    237\u001b[0m     \u001b[39melse\u001b[39;00m:  \u001b[39m# Base case\u001b[39;00m\n\u001b[0;32m--> 238\u001b[0m         d[k] \u001b[39m=\u001b[39m read_elem(f[k])\n\u001b[1;32m    240\u001b[0m d[\u001b[39m\"\u001b[39m\u001b[39mraw\u001b[39m\u001b[39m\"\u001b[39m] \u001b[39m=\u001b[39m _read_raw(f, as_sparse, rdasp)\n\u001b[1;32m    242\u001b[0m X_dset \u001b[39m=\u001b[39m f\u001b[39m.\u001b[39mget(\u001b[39m\"\u001b[39m\u001b[39mX\u001b[39m\u001b[39m\"\u001b[39m, \u001b[39mNone\u001b[39;00m)\n",
      "File \u001b[0;32m~/anaconda3/envs/cell_rec/lib/python3.10/site-packages/anndata/_io/specs/registry.py:183\u001b[0m, in \u001b[0;36mread_elem\u001b[0;34m(elem, modifiers)\u001b[0m\n\u001b[1;32m    178\u001b[0m \u001b[39mdef\u001b[39;00m \u001b[39mread_elem\u001b[39m(\n\u001b[1;32m    179\u001b[0m     elem: Union[H5Array, H5Group, ZarrGroup, ZarrArray],\n\u001b[1;32m    180\u001b[0m     modifiers: \u001b[39mfrozenset\u001b[39m(\u001b[39mstr\u001b[39m) \u001b[39m=\u001b[39m \u001b[39mfrozenset\u001b[39m(),\n\u001b[1;32m    181\u001b[0m ) \u001b[39m-\u001b[39m\u001b[39m>\u001b[39m Any:\n\u001b[1;32m    182\u001b[0m     \u001b[39m\"\"\"Read an element from an on disk store.\"\"\"\u001b[39;00m\n\u001b[0;32m--> 183\u001b[0m     \u001b[39mreturn\u001b[39;00m _REGISTRY\u001b[39m.\u001b[39;49mget_reader(\u001b[39mtype\u001b[39;49m(elem), get_spec(elem), \u001b[39mfrozenset\u001b[39;49m(modifiers))(elem)\n",
      "File \u001b[0;32m~/anaconda3/envs/cell_rec/lib/python3.10/site-packages/anndata/_io/specs/methods.py:91\u001b[0m, in \u001b[0;36mread_basic\u001b[0;34m(elem)\u001b[0m\n\u001b[1;32m     88\u001b[0m \u001b[39mif\u001b[39;00m \u001b[39misinstance\u001b[39m(elem, Mapping):\n\u001b[1;32m     89\u001b[0m     \u001b[39m# Backwards compat sparse arrays\u001b[39;00m\n\u001b[1;32m     90\u001b[0m     \u001b[39mif\u001b[39;00m \u001b[39m\"\u001b[39m\u001b[39mh5sparse_format\u001b[39m\u001b[39m\"\u001b[39m \u001b[39min\u001b[39;00m elem\u001b[39m.\u001b[39mattrs:\n\u001b[0;32m---> 91\u001b[0m         \u001b[39mreturn\u001b[39;00m SparseDataset(elem)\u001b[39m.\u001b[39;49mto_memory()\n\u001b[1;32m     92\u001b[0m     \u001b[39mreturn\u001b[39;00m {k: read_elem(v) \u001b[39mfor\u001b[39;00m k, v \u001b[39min\u001b[39;00m elem\u001b[39m.\u001b[39mitems()}\n\u001b[1;32m     93\u001b[0m \u001b[39melif\u001b[39;00m \u001b[39misinstance\u001b[39m(elem, h5py\u001b[39m.\u001b[39mDataset):\n",
      "File \u001b[0;32m~/anaconda3/envs/cell_rec/lib/python3.10/site-packages/anndata/_core/sparse_dataset.py:379\u001b[0m, in \u001b[0;36mSparseDataset.to_memory\u001b[0;34m(self)\u001b[0m\n\u001b[1;32m    377\u001b[0m format_class \u001b[39m=\u001b[39m get_memory_class(\u001b[39mself\u001b[39m\u001b[39m.\u001b[39mformat_str)\n\u001b[1;32m    378\u001b[0m mtx \u001b[39m=\u001b[39m format_class(\u001b[39mself\u001b[39m\u001b[39m.\u001b[39mshape, dtype\u001b[39m=\u001b[39m\u001b[39mself\u001b[39m\u001b[39m.\u001b[39mdtype)\n\u001b[0;32m--> 379\u001b[0m mtx\u001b[39m.\u001b[39mdata \u001b[39m=\u001b[39m \u001b[39mself\u001b[39;49m\u001b[39m.\u001b[39;49mgroup[\u001b[39m\"\u001b[39;49m\u001b[39mdata\u001b[39;49m\u001b[39m\"\u001b[39;49m][\u001b[39m.\u001b[39;49m\u001b[39m.\u001b[39;49m\u001b[39m.\u001b[39;49m]\n\u001b[1;32m    380\u001b[0m mtx\u001b[39m.\u001b[39mindices \u001b[39m=\u001b[39m \u001b[39mself\u001b[39m\u001b[39m.\u001b[39mgroup[\u001b[39m\"\u001b[39m\u001b[39mindices\u001b[39m\u001b[39m\"\u001b[39m][\u001b[39m.\u001b[39m\u001b[39m.\u001b[39m\u001b[39m.\u001b[39m]\n\u001b[1;32m    381\u001b[0m mtx\u001b[39m.\u001b[39mindptr \u001b[39m=\u001b[39m \u001b[39mself\u001b[39m\u001b[39m.\u001b[39mgroup[\u001b[39m\"\u001b[39m\u001b[39mindptr\u001b[39m\u001b[39m\"\u001b[39m][\u001b[39m.\u001b[39m\u001b[39m.\u001b[39m\u001b[39m.\u001b[39m]\n",
      "File \u001b[0;32mh5py/_objects.pyx:54\u001b[0m, in \u001b[0;36mh5py._objects.with_phil.wrapper\u001b[0;34m()\u001b[0m\n",
      "File \u001b[0;32mh5py/_objects.pyx:55\u001b[0m, in \u001b[0;36mh5py._objects.with_phil.wrapper\u001b[0;34m()\u001b[0m\n",
      "File \u001b[0;32m~/anaconda3/envs/cell_rec/lib/python3.10/site-packages/h5py/_hl/dataset.py:741\u001b[0m, in \u001b[0;36mDataset.__getitem__\u001b[0;34m(self, args, new_dtype)\u001b[0m\n\u001b[1;32m    739\u001b[0m \u001b[39mif\u001b[39;00m \u001b[39mself\u001b[39m\u001b[39m.\u001b[39m_fast_read_ok \u001b[39mand\u001b[39;00m (new_dtype \u001b[39mis\u001b[39;00m \u001b[39mNone\u001b[39;00m):\n\u001b[1;32m    740\u001b[0m     \u001b[39mtry\u001b[39;00m:\n\u001b[0;32m--> 741\u001b[0m         \u001b[39mreturn\u001b[39;00m \u001b[39mself\u001b[39;49m\u001b[39m.\u001b[39;49m_fast_reader\u001b[39m.\u001b[39;49mread(args)\n\u001b[1;32m    742\u001b[0m     \u001b[39mexcept\u001b[39;00m \u001b[39mTypeError\u001b[39;00m:\n\u001b[1;32m    743\u001b[0m         \u001b[39mpass\u001b[39;00m  \u001b[39m# Fall back to Python read pathway below\u001b[39;00m\n",
      "\u001b[0;31mKeyboardInterrupt\u001b[0m: "
     ]
    }
   ],
   "source": [
    "from utils import *\n",
    "from rectifiedflow import *\n",
    "\n",
    "index_pair_list = [(i, i + 1) for i in range(15)]\n",
    "# days[index_pair_list]\n",
    "n_obs_list = [pcadatalist[i].shape[0] for i in range(len(pcadatalist))]\n",
    "pairs_train = None\n",
    "\n",
    "for index_pair in index_pair_list:\n",
    "    intersection, unpaired_ref_cell_indices, unpaired_new_cell_indices = NNVerification(index_pair)\n",
    "    tmp_pairs_train, ref_crt_pcadata, new_crt_pcadata = gen_pairs_train(index_pair, n_obs_list, unpaired_ref_cell_indices, unpaired_new_cell_indices)\n",
    "    if pairs_train is None:\n",
    "        pairs_train = torch.tensor(tmp_pairs_train)\n",
    "        pairs_train = torch.concat((pairs_train, torch.tensor([index_pair[0], index_pair[1]]).repeat(tmp_pairs_train.shape[0], 1)), 1)\n",
    "    else:\n",
    "        tmp_pairs_train = torch.concat((tmp_pairs_train, torch.tensor([index_pair[0], index_pair[1]]).repeat(tmp_pairs_train.shape[0], 1)), 1)\n",
    "        pairs_train = torch.concat((pairs_train, tmp_pairs_train), 0)"
   ]
  },
  {
   "cell_type": "code",
   "execution_count": 7,
   "metadata": {},
   "outputs": [
    {
     "name": "stderr",
     "output_type": "stream",
     "text": [
      "100%|██████████| 2001/2001 [06:14<00:00,  5.35it/s]\n"
     ]
    }
   ],
   "source": [
    "from utils import *\n",
    "from rectifiedflow import *\n",
    "\n",
    "index_pair_list = [(i, i + 1) for i in range(15)]\n",
    "# days[index_pair_list]\n",
    "n_obs_list = [pcadatalist[i].shape[0] for i in range(len(pcadatalist))]\n",
    "\n",
    "iterations = 2000\n",
    "batchsize = 2048\n",
    "input_dim = 400\n",
    "hidden_dim = 256\n",
    "recFlow_dict = {}\n",
    "loss_curve_dict = {}\n",
    "device = torch.device(\"cuda:1\" if torch.cuda.is_available() else \"cpu\")\n",
    "pairs_train = torch.load('pairs_train.pt')\n",
    "recFlow = RectifiedFlow(n_obs_list=n_obs_list, model=MLP(input_dim=input_dim, hidden_num=hidden_dim), num_steps=1000, reverse=False)\n",
    "optimizer = torch.optim.Adam(recFlow.model.parameters(), lr=5e-3)\n",
    "recflow, loss_curve = train_rectified_flow(recFlow, optimizer, pairs_train, batchsize, iterations)\n",
    "# recFlow_dict[f'hidden_dim_{hidden_dim}'], loss_curve_dict[f'hidden_dim_{hidden_dim}'] = recflow, loss_curve\n"
   ]
  },
  {
   "cell_type": "code",
   "execution_count": 9,
   "metadata": {},
   "outputs": [
    {
     "data": {
      "text/plain": [
       "[<matplotlib.lines.Line2D at 0x7f5638e910f0>]"
      ]
     },
     "execution_count": 9,
     "metadata": {},
     "output_type": "execute_result"
    },
    {
     "data": {
      "image/png": "[encoded data removed]",
      "text/plain": [
       "<Figure size 432x288 with 1 Axes>"
      ]
     },
     "metadata": {
      "needs_background": "light"
     },
     "output_type": "display_data"
    }
   ],
   "source": [
    "plt.plot(loss_curve)"
   ]
  },
  {
   "cell_type": "code",
   "execution_count": 10,
   "metadata": {},
   "outputs": [],
   "source": [
    "# target = recflow.simulate_target(z0=torch.arange(3815), zid=16, N=1000)\n",
    "target = recflow.simulate_target(z0=torch.arange(5061), zid=15, N=1000)"
   ]
  },
  {
   "cell_type": "code",
   "execution_count": 11,
   "metadata": {},
   "outputs": [
    {
     "data": {
      "text/plain": [
       "torch.Size([3815, 400])"
      ]
     },
     "execution_count": 11,
     "metadata": {},
     "output_type": "execute_result"
    }
   ],
   "source": [
    "target.shape"
   ]
  },
  {
   "cell_type": "code",
   "execution_count": 16,
   "metadata": {},
   "outputs": [
    {
     "data": {
      "text/plain": [
       "(array([  0.,   0.,   0.,   0.,   0.,   0.,   0.,   0.,   0.,   0.,   0.,\n",
       "          0.,   0.,   0.,   0.,   0.,   0.,   0.,   0.,   0.,   0.,   0.,\n",
       "          0.,   0.,   0.,   0.,   0.,   0.,   0.,   0.,   0.,   0.,   0.,\n",
       "          0.,   0.,   0.,   0.,   0.,   0.,   0.,   0.,   0.,   0.,   0.,\n",
       "          0.,   0.,   0.,   0.,   0.,   0.,   0.,   0.,   0.,   0.,   0.,\n",
       "          0.,   0.,   0.,   0.,   0.,   0.,   0.,   0.,   0.,   0.,   0.,\n",
       "          0.,   0.,   0.,   0.,   0.,   0.,   0.,   0.,   0.,   0.,   0.,\n",
       "          0.,   0.,   0.,   0.,   0.,   0.,   0.,   0.,   0.,   0.,   0.,\n",
       "          0.,   0.,   0.,   0.,   0.,   0.,   0.,   0.,   0.,   0.,   1.,\n",
       "          0.,   0.,   2.,   0.,   1.,   0.,   0.,   1.,   0.,   1.,   0.,\n",
       "          0.,   2.,   0.,   1.,   0.,   4.,   0.,   3.,   4.,   8.,   6.,\n",
       "          4.,   5.,   9.,   3.,   6.,   8.,  10.,  11.,   7.,   9.,  14.,\n",
       "          8.,  16.,  15.,  20.,  15.,  30.,  16.,  19.,  26.,  28.,  29.,\n",
       "         31.,  30.,  23.,  41.,  37.,  49.,  50.,  47.,  39.,  51.,  41.,\n",
       "         41.,  55.,  59.,  68.,  58.,  80.,  69.,  80.,  77.,  68.,  79.,\n",
       "         68., 103.,  89.,  92.,  89.,  76.,  80.,  80.,  95.,  74.,  74.,\n",
       "         86.,  85.,  73.,  99.,  99.,  87.,  97.,  97., 121., 103., 128.,\n",
       "        116.,  78.,  59.,  32.,  11.,   3.,   4.,   1.,   1.,   0.,   0.,\n",
       "          0.,   0.]),\n",
       " array([-1.  , -0.99, -0.98, -0.97, -0.96, -0.95, -0.94, -0.93, -0.92,\n",
       "        -0.91, -0.9 , -0.89, -0.88, -0.87, -0.86, -0.85, -0.84, -0.83,\n",
       "        -0.82, -0.81, -0.8 , -0.79, -0.78, -0.77, -0.76, -0.75, -0.74,\n",
       "        -0.73, -0.72, -0.71, -0.7 , -0.69, -0.68, -0.67, -0.66, -0.65,\n",
       "        -0.64, -0.63, -0.62, -0.61, -0.6 , -0.59, -0.58, -0.57, -0.56,\n",
       "        -0.55, -0.54, -0.53, -0.52, -0.51, -0.5 , -0.49, -0.48, -0.47,\n",
       "        -0.46, -0.45, -0.44, -0.43, -0.42, -0.41, -0.4 , -0.39, -0.38,\n",
       "        -0.37, -0.36, -0.35, -0.34, -0.33, -0.32, -0.31, -0.3 , -0.29,\n",
       "        -0.28, -0.27, -0.26, -0.25, -0.24, -0.23, -0.22, -0.21, -0.2 ,\n",
       "        -0.19, -0.18, -0.17, -0.16, -0.15, -0.14, -0.13, -0.12, -0.11,\n",
       "        -0.1 , -0.09, -0.08, -0.07, -0.06, -0.05, -0.04, -0.03, -0.02,\n",
       "        -0.01,  0.  ,  0.01,  0.02,  0.03,  0.04,  0.05,  0.06,  0.07,\n",
       "         0.08,  0.09,  0.1 ,  0.11,  0.12,  0.13,  0.14,  0.15,  0.16,\n",
       "         0.17,  0.18,  0.19,  0.2 ,  0.21,  0.22,  0.23,  0.24,  0.25,\n",
       "         0.26,  0.27,  0.28,  0.29,  0.3 ,  0.31,  0.32,  0.33,  0.34,\n",
       "         0.35,  0.36,  0.37,  0.38,  0.39,  0.4 ,  0.41,  0.42,  0.43,\n",
       "         0.44,  0.45,  0.46,  0.47,  0.48,  0.49,  0.5 ,  0.51,  0.52,\n",
       "         0.53,  0.54,  0.55,  0.56,  0.57,  0.58,  0.59,  0.6 ,  0.61,\n",
       "         0.62,  0.63,  0.64,  0.65,  0.66,  0.67,  0.68,  0.69,  0.7 ,\n",
       "         0.71,  0.72,  0.73,  0.74,  0.75,  0.76,  0.77,  0.78,  0.79,\n",
       "         0.8 ,  0.81,  0.82,  0.83,  0.84,  0.85,  0.86,  0.87,  0.88,\n",
       "         0.89,  0.9 ,  0.91,  0.92,  0.93,  0.94,  0.95,  0.96,  0.97,\n",
       "         0.98,  0.99,  1.  ]),\n",
       " <BarContainer object of 200 artists>)"
      ]
     },
     "execution_count": 16,
     "metadata": {},
     "output_type": "execute_result"
    },
    {
     "data": {
      "image/png": "[encoded data removed]",
      "text/plain": [
       "<Figure size 720x540 with 1 Axes>"
      ]
     },
     "metadata": {
      "needs_background": "light"
     },
     "output_type": "display_data"
    }
   ],
   "source": [
    "from scipy import stats\n",
    "\n",
    "test_crt_pcadatapair = np.load('pcadata/pcadata_contiguous_15_16.npy', allow_pickle=True)[0]\n",
    "ref_crt_pcadata = test_crt_pcadatapair[:n_obs_list[15]]\n",
    "new_crt_pcadata = test_crt_pcadatapair[n_obs_list[15]:]\n",
    "\n",
    "# n_neighbors = 50\n",
    "# KNN = nb.NearestNeighbors(n_neighbors=n_neighbors)\n",
    "# KNN.fit(ref_crt_pcadata)\n",
    "\n",
    "PATH_TMAP = 'tmaps/tmaps_7.5_8.0.h5ad'\n",
    "tmaps = wot.io.read_dataset(PATH_TMAP)\n",
    "tensor_tmapX = torch.tensor(tmaps.X)\n",
    "target = target.cpu()\n",
    "\n",
    "# dot_sim = torch.matmul(torch.tensor(ref_crt_pcadata), target.cpu().T)\n",
    "# cos_sim = dot_sim / torch.unsqueeze(torch.norm(target.cpu(), p=2, dim=1), 0) / torch.unsqueeze(torch.norm(torch.tensor(ref_crt_pcadata.T), p=2, dim=0), 1)\n",
    "dot_sim = torch.matmul(torch.tensor(new_crt_pcadata), target.cpu().T)\n",
    "cos_sim = dot_sim / torch.unsqueeze(torch.norm(target.cpu(), p=2, dim=1), 0) / torch.unsqueeze(torch.norm(torch.tensor(new_crt_pcadata.T), p=2, dim=0), 1)\n",
    "corrs = torch.zeros(new_crt_pcadata.shape[0])\n",
    "# cvrg = torch.zeros(new_crt_pcadata.shape[0])\n",
    "# print(tensor_tmapX.shape)\n",
    "# print(dot_sim.shape)\n",
    "for i in range(new_crt_pcadata.shape[0]):\n",
    "    # ind_seq = tensor_tmapX[:, i].argsort()[-200:]\n",
    "    # corrs[i] = stats.pearsonr(tensor_tmapX[:, i][ind_seq], dot_sim[i][ind_seq]).statistic\n",
    "    # corrs[i] = stats.pearsonr(tensor_tmapX[:, i], torch.softmax(dot_sim[:, i], 0)).statistic\n",
    "    # corrs[i] = stats.pearsonr(torch.nan_to_num(torch.log(tensor_tmapX[:, i])), cos_sim[:, i]).statistic\n",
    "    # corrs[i] = stats.spearmanr(tensor_tmapX[:, i][ind_seq], cos_sim[:, i][ind_seq]).correlation\n",
    "    corrs[i] = stats.spearmanr(tensor_tmapX[:, i], cos_sim[i, :]).correlation\n",
    "    # _, indices = KNN.kneighbors(target[i].reshape(1, -1))\n",
    "    # summation = tensor_tmapX[:, i][indices].sum()\n",
    "    # cvrg[i] = summation / tensor_tmapX[:, i].sort()[0][-n_neighbors:].sum()\n",
    "    \n",
    "    \n",
    "plt.figure(figsize=(10, 7.5))\n",
    "plt.title('Spearman Correlation')\n",
    "# plt.title(f'Coverage when n = {n_neighbors}')\n",
    "# plt.title('Pearson Correlation between Cosine Similarity and Transition MAP')\n",
    "plt.hist(corrs, bins=np.linspace(-1, 1, 201, endpoint=True))\n",
    "\n",
    "# plt.scatter(torch.log(tensor_tmapX[:, 0]), dot_sim[:, 0])\n",
    "\n",
    "# ind_seq = torch.argsort(tensor_tmapX[0])[-50:]\n",
    "# tensor_tmapX[0][ind_seq]\n",
    "\n",
    "# plt.xlabel('TMAP')\n",
    "# plt.ylabel('Cosine Similarity')\n",
    "# plt.scatter(torch.log(tensor_tmapX[0]), cos_sim[0])\n"
   ]
  },
  {
   "cell_type": "code",
   "execution_count": null,
   "metadata": {},
   "outputs": [],
   "source": []
  },
  {
   "cell_type": "code",
   "execution_count": 135,
   "metadata": {},
   "outputs": [
    {
     "data": {
      "text/plain": [
       "tensor([2657, 3714, 4029, 3879, 4321,   42, 2735, 4739, 4592, 4152, 1155, 1700,\n",
       "        3365, 3645, 4345, 1068, 4981, 4913, 1273, 1509, 4103, 4220, 1132, 3548,\n",
       "        3807, 3273, 4562, 3064, 4794, 4855, 2695, 4947, 3362, 2376, 2083, 4967,\n",
       "         650, 3253, 1376, 4522, 2921, 2850, 3292, 5025, 2299, 5029, 4308, 3003,\n",
       "        4793, 4559])"
      ]
     },
     "execution_count": 135,
     "metadata": {},
     "output_type": "execute_result"
    }
   ],
   "source": [
    "# tensor_tmapX[:, 0].sort()[0][-500:].sum() / tensor_tmapX[:, 0].sum()\n",
    "tensor_tmapX[:, 0].argsort()[-50:]"
   ]
  },
  {
   "cell_type": "code",
   "execution_count": 21,
   "metadata": {},
   "outputs": [
    {
     "data": {
      "text/plain": [
       "tensor(0.4719)"
      ]
     },
     "execution_count": 21,
     "metadata": {},
     "output_type": "execute_result"
    }
   ],
   "source": [
    "import wot\n",
    "import torch\n",
    "\n",
    "PATH_TMAP = 'tmaps/tmaps_6.5_7.0.h5ad'\n",
    "tmaps = wot.io.read_dataset(PATH_TMAP)\n",
    "tensor_tmapX = torch.tensor(tmaps.X)\n",
    "summation = []\n",
    "for i in tensor_tmapX.sum(dim=0):\n",
    "    # print(i.item(), end=' ')\n",
    "    summation.append(i.item())\n",
    "torch.mean(torch.tensor(summation))\n",
    "# tensor_tmapX.shape"
   ]
  },
  {
   "cell_type": "code",
   "execution_count": 24,
   "metadata": {},
   "outputs": [
    {
     "data": {
      "text/plain": [
       "torch.Size([6507])"
      ]
     },
     "execution_count": 24,
     "metadata": {},
     "output_type": "execute_result"
    }
   ],
   "source": [
    "torch.tensor(summation).shape"
   ]
  },
  {
   "cell_type": "code",
   "execution_count": 25,
   "metadata": {},
   "outputs": [
    {
     "data": {
      "text/plain": [
       "torch.Size([3111, 6507])"
      ]
     },
     "execution_count": 25,
     "metadata": {},
     "output_type": "execute_result"
    }
   ],
   "source": [
    "# tensor_tmapX.shape[0] / tensor_tmapX.shape[1]\n",
    "tensor_tmapX.shape"
   ]
  },
  {
   "cell_type": "code",
   "execution_count": 32,
   "metadata": {},
   "outputs": [
    {
     "data": {
      "text/plain": [
       "[4556,\n",
       " 3449,\n",
       " 3648,\n",
       " 1956,\n",
       " 6981,\n",
       " 6734,\n",
       " 6777,\n",
       " 7355,\n",
       " 8962,\n",
       " 7127,\n",
       " 7227,\n",
       " 6550,\n",
       " 8422,\n",
       " 3111,\n",
       " 6507,\n",
       " 5061,\n",
       " 3815,\n",
       " 7666,\n",
       " 6400,\n",
       " 6319,\n",
       " 5016,\n",
       " 3849,\n",
       " 3931,\n",
       " 3396,\n",
       " 3579,\n",
       " 3543,\n",
       " 3868,\n",
       " 3610,\n",
       " 3443,\n",
       " 3637,\n",
       " 7594,\n",
       " 6849,\n",
       " 8199,\n",
       " 12416,\n",
       " 9613,\n",
       " 11455,\n",
       " 8110,\n",
       " 8118,\n",
       " 7436]"
      ]
     },
     "execution_count": 32,
     "metadata": {},
     "output_type": "execute_result"
    }
   ],
   "source": [
    "n_obs_list"
   ]
  },
  {
   "cell_type": "markdown",
   "metadata": {},
   "source": [
    "# Prediction of next-generation cells' gene expression"
   ]
  },
  {
   "cell_type": "code",
   "execution_count": 232,
   "metadata": {},
   "outputs": [
    {
     "data": {
      "text/plain": [
       "tensor(199)"
      ]
     },
     "execution_count": 232,
     "metadata": {},
     "output_type": "execute_result"
    }
   ],
   "source": [
    "# corrs.mean()\n",
    "torch.count_nonzero(corrs > 0.5)"
   ]
  },
  {
   "cell_type": "code",
   "execution_count": 193,
   "metadata": {},
   "outputs": [
    {
     "data": {
      "text/plain": [
       "array([[ 0.75626588, -0.32231061, -0.44213074, ..., -0.36190041,\n",
       "        -0.27184065,  0.19389442],\n",
       "       [ 0.55246427, -0.03178462, -0.1660723 , ...,  0.02851433,\n",
       "        -0.23454934,  0.03049706],\n",
       "       [ 0.58919827, -0.3392671 , -0.39838638, ..., -0.42386514,\n",
       "        -0.24154552,  0.14067533],\n",
       "       ...,\n",
       "       [ 0.48676285, -0.09629973, -0.08846874, ...,  0.13355931,\n",
       "        -0.16051258, -0.01693643],\n",
       "       [ 0.6189222 , -0.36613407, -0.31705721, ..., -0.31431018,\n",
       "        -0.11741903,  0.13583395],\n",
       "       [ 0.69692586, -0.34581767, -0.482847  , ..., -0.43996315,\n",
       "        -0.28197565,  0.20591193]])"
      ]
     },
     "execution_count": 193,
     "metadata": {},
     "output_type": "execute_result"
    }
   ],
   "source": [
    "# result.correlation[4556:, :4556]"
   ]
  },
  {
   "cell_type": "code",
   "execution_count": 189,
   "metadata": {},
   "outputs": [
    {
     "data": {
      "text/plain": [
       "(9112, 9112)"
      ]
     },
     "execution_count": 189,
     "metadata": {},
     "output_type": "execute_result"
    }
   ],
   "source": [
    "result.correlation.shape"
   ]
  },
  {
   "cell_type": "code",
   "execution_count": 136,
   "metadata": {},
   "outputs": [
    {
     "data": {
      "text/plain": [
       "0.6709378"
      ]
     },
     "execution_count": 136,
     "metadata": {},
     "output_type": "execute_result"
    }
   ],
   "source": [
    "tc = tmaps.X[0].copy()\n",
    "temp = np.sort(tc)[-50:].sum()/tmaps.X[0].sum()\n",
    "temp"
   ]
  },
  {
   "cell_type": "code",
   "execution_count": 146,
   "metadata": {},
   "outputs": [
    {
     "name": "stdout",
     "output_type": "stream",
     "text": [
      "{769, 2564, 2439, 3342, 3218, 2710, 664, 800, 33, 930, 3363, 292, 1407, 1064, 2425, 555, 2348, 2740, 2742, 2232, 2236, 2365, 1086, 446, 2497, 835, 451, 1733, 845, 718, 213, 86, 1111, 601, 858, 219, 1882, 2397, 606, 1761, 993, 1124, 1380, 1382, 237, 750, 1017, 762, 2301, 255}\n"
     ]
    }
   ],
   "source": [
    "KNN_new_rec = nb.NearestNeighbors(n_neighbors=50)\n",
    "KNN_new_rec.fit(pcadatalist[index_pair[1]])\n",
    "dists, indices = KNN_new_rec.kneighbors([np.array(recflow_descendant[0])])\n",
    "setb = set(indices.squeeze())\n",
    "print(setb)"
   ]
  },
  {
   "cell_type": "code",
   "execution_count": 149,
   "metadata": {},
   "outputs": [
    {
     "name": "stderr",
     "output_type": "stream",
     "text": [
      "100%|██████████| 4556/4556 [00:18<00:00, 244.93it/s]\n"
     ]
    },
    {
     "data": {
      "text/plain": [
       "5.11369622475856"
      ]
     },
     "execution_count": 149,
     "metadata": {},
     "output_type": "execute_result"
    }
   ],
   "source": [
    "intersect_len = []\n",
    "for i in trange(pcadatalist[index_pair[0]].shape[0]):\n",
    "    seta = set(np.argsort(tmaps.X[i])[-50:])\n",
    "    dists, indices = KNN_new_rec.kneighbors([np.array(recflow_descendant[i])])\n",
    "    setb = set(indices.squeeze())\n",
    "    intersect_len.append(len(seta & setb))\n",
    "np.average(np.array(intersect_len))"
   ]
  },
  {
   "cell_type": "code",
   "execution_count": 151,
   "metadata": {},
   "outputs": [
    {
     "data": {
      "text/plain": [
       "25.008144283488825"
      ]
     },
     "execution_count": 151,
     "metadata": {},
     "output_type": "execute_result"
    }
   ],
   "source": [
    "np.var(intersect_len)"
   ]
  },
  {
   "cell_type": "code",
   "execution_count": 127,
   "metadata": {},
   "outputs": [
    {
     "data": {
      "text/plain": [
       "{555, 606, 718, 750, 858, 1382, 2497, 2742, 3342}"
      ]
     },
     "execution_count": 127,
     "metadata": {},
     "output_type": "execute_result"
    }
   ],
   "source": [
    "# torch.tensor([pcadatalist[0][0]])\n",
    "# loss_curve\n",
    "# pairs_train.shape[0]\n",
    "seta & setb"
   ]
  },
  {
   "cell_type": "code",
   "execution_count": null,
   "metadata": {},
   "outputs": [],
   "source": []
  },
  {
   "cell_type": "code",
   "execution_count": 40,
   "metadata": {},
   "outputs": [
    {
     "data": {
      "text/plain": [
       "tensor([[-1.1279, -0.0635, -1.0947,  0.2529, -0.5282, -3.0421,  0.5110, -1.8907,\n",
       "         -0.0522, -1.0012,  1.8089, -0.7958,  0.1271, -1.0385,  0.2367,  0.3067,\n",
       "         -1.2648, -1.7070, -3.0288, -0.1463, -1.0794,  1.8206, -0.0108, -0.5595,\n",
       "          0.8891,  0.0247,  1.1246, -0.7822,  0.7860,  0.0812, -0.6976, -1.1193,\n",
       "          0.1411,  1.1246,  0.2163, -1.6749,  0.2797, -0.0801, -1.6234, -0.2709,\n",
       "         -0.0462, -0.4291,  0.4798,  0.4132, -0.1353, -0.1982, -0.9799,  0.3786,\n",
       "         -0.2610, -0.3199,  0.4718, -1.1137,  0.2410, -1.0545,  0.5243,  0.1466,\n",
       "          0.5894,  0.9240, -0.0803, -0.4891,  0.2107, -0.1577, -0.4489,  0.1165,\n",
       "          0.6100, -0.2526, -0.4202,  0.8129, -0.0058, -0.1387, -0.4763, -0.6492,\n",
       "         -0.9908,  0.4196,  0.3735, -0.8149, -1.8083,  0.4048, -0.2521,  0.6571,\n",
       "          0.3433, -1.5761,  0.0275,  0.4470, -0.1780, -0.6525, -0.5341, -0.2866,\n",
       "         -0.0960,  0.4099,  0.7390,  0.0285,  0.2668,  0.9762, -0.0549,  0.4303,\n",
       "          1.5326,  0.1330,  1.4364,  0.4409,  0.6600,  0.8078,  0.2395, -0.2376,\n",
       "          0.6285,  0.1978,  0.9193,  1.2969,  0.2496,  0.5915,  1.2493, -0.0155,\n",
       "          0.1926,  0.1212, -0.0401,  0.6415,  0.3289,  0.1697, -0.3950,  0.2568,\n",
       "          0.7444, -0.5086, -0.7264, -0.3750, -0.4618,  0.7777,  0.1393, -0.6346,\n",
       "          0.1187,  0.4849,  0.8542,  0.4474, -1.1605,  0.1942, -0.2904,  0.5633,\n",
       "          0.5586,  0.5508,  0.2773,  0.5943,  0.3440, -0.2936,  0.3294,  0.2377,\n",
       "          0.5334,  0.7658,  0.0099,  0.1080,  0.2693, -0.1287, -1.3168, -0.0210,\n",
       "         -0.3707, -0.2877,  0.0065,  0.1520, -0.1784, -0.0828, -0.4329,  0.0134,\n",
       "          0.3875,  0.3695, -0.4576,  1.1095, -0.6218,  0.1857, -0.4837,  1.0709,\n",
       "         -0.3720, -0.1596, -0.0477,  0.8227, -0.6950,  0.7047,  1.5242, -0.4816,\n",
       "         -0.6289, -0.3819,  0.9217,  0.1676,  0.5097, -0.3307, -0.0231, -0.1636,\n",
       "          0.0576,  0.2260, -0.3744, -0.0599, -0.5116, -0.1465,  1.0066,  0.5589,\n",
       "          0.7924,  0.2473, -0.5449,  0.7880, -0.6326, -0.3152, -0.7487, -0.2546,\n",
       "          0.3301,  0.5264, -0.2127, -0.1307,  0.2327,  0.9230, -0.1498,  0.0354,\n",
       "          0.0784,  0.8098, -0.3357, -0.1287, -0.1062,  0.1311,  0.4087,  0.3798,\n",
       "          0.2270, -0.1826,  0.4868, -0.7101, -0.1340, -1.0323, -1.2710,  0.2416,\n",
       "          1.2078, -0.0577, -0.8121,  0.0521, -0.6002, -0.8311, -0.0256,  0.2777,\n",
       "         -0.0543, -0.3171,  0.2145, -0.7264,  0.4075,  0.0578,  0.6831, -0.8949,\n",
       "         -0.5565,  0.4718,  0.5553, -1.1829, -0.6650, -0.2696, -0.2678, -0.1640,\n",
       "          0.0864, -0.0126, -0.3648,  0.3984,  0.2481,  0.5478,  0.4894,  0.3603,\n",
       "          0.9243,  0.9749, -0.2477,  0.0402, -0.5462, -0.7439,  0.2069,  1.0354,\n",
       "          0.3031,  0.7092, -0.1115,  0.3214,  0.2728,  0.1831,  0.1565, -0.2691,\n",
       "         -0.1269, -0.3242, -0.0511, -0.1886,  0.2898, -0.8045, -0.6133, -0.3490,\n",
       "         -0.3200, -0.4513, -0.5157, -0.7250,  1.0760,  0.6744, -0.0696, -0.4058,\n",
       "          0.3937,  0.1923, -0.0630, -0.2636, -0.1556, -0.7434,  0.5179, -0.7792,\n",
       "          0.4166,  0.4727, -0.5255,  0.7467, -1.2194, -0.1153, -0.6076, -0.3408,\n",
       "         -0.0955,  0.1898, -0.3761,  0.1489, -0.8822, -0.2419, -0.4407,  0.7309,\n",
       "          0.2546, -0.8673, -0.3765, -0.7599, -0.0297,  0.4298,  0.1296,  0.4145,\n",
       "          0.5240, -0.1634, -0.0603,  0.0708, -0.2986, -0.1358, -1.3893,  0.5921,\n",
       "         -0.0700,  0.9608, -0.1511, -0.0341,  0.0936,  0.0377,  0.0342, -0.3095,\n",
       "         -0.1221,  0.5159,  0.2463, -0.1332, -0.4849, -0.0764, -0.0327, -1.5124,\n",
       "          0.7229,  0.0381,  0.1089,  0.6668, -0.1373, -0.3385, -0.4691, -0.1895,\n",
       "          0.4647, -1.2299,  0.3475, -0.2431,  0.0464,  0.0212, -0.6827, -0.2877,\n",
       "          0.3966, -0.4289,  0.0184,  0.2315, -0.7172, -0.0143,  0.0388, -0.3283,\n",
       "         -0.0507, -0.3330,  0.1895,  0.2276, -0.5836, -0.6343,  0.2652,  0.1910,\n",
       "          0.3868, -0.2783, -0.2672,  0.0451,  0.0466,  0.1514, -0.7019,  0.0760,\n",
       "          0.0853, -0.6421, -1.0199,  0.0345, -0.3271, -0.6518, -0.6581,  0.1353,\n",
       "          0.0915,  1.3872,  0.0388,  0.0573, -0.5069,  0.0573, -0.5479,  0.3255]],\n",
       "       grad_fn=<AddmmBackward0>)"
      ]
     },
     "execution_count": 40,
     "metadata": {},
     "output_type": "execute_result"
    }
   ],
   "source": [
    "# recFlow.model(torch.tensor([pcadatalist[0][0]]), torch.tensor([[0]]))"
   ]
  },
  {
   "cell_type": "code",
   "execution_count": 147,
   "metadata": {},
   "outputs": [
    {
     "data": {
      "text/html": [
       "<style>#sk-container-id-3 {color: black;background-color: white;}#sk-container-id-3 pre{padding: 0;}#sk-container-id-3 div.sk-toggleable {background-color: white;}#sk-container-id-3 label.sk-toggleable__label {cursor: pointer;display: block;width: 100%;margin-bottom: 0;padding: 0.3em;box-sizing: border-box;text-align: center;}#sk-container-id-3 label.sk-toggleable__label-arrow:before {content: \"▸\";float: left;margin-right: 0.25em;color: #696969;}#sk-container-id-3 label.sk-toggleable__label-arrow:hover:before {color: black;}#sk-container-id-3 div.sk-estimator:hover label.sk-toggleable__label-arrow:before {color: black;}#sk-container-id-3 div.sk-toggleable__content {max-height: 0;max-width: 0;overflow: hidden;text-align: left;background-color: #f0f8ff;}#sk-container-id-3 div.sk-toggleable__content pre {margin: 0.2em;color: black;border-radius: 0.25em;background-color: #f0f8ff;}#sk-container-id-3 input.sk-toggleable__control:checked~div.sk-toggleable__content {max-height: 200px;max-width: 100%;overflow: auto;}#sk-container-id-3 input.sk-toggleable__control:checked~label.sk-toggleable__label-arrow:before {content: \"▾\";}#sk-container-id-3 div.sk-estimator input.sk-toggleable__control:checked~label.sk-toggleable__label {background-color: #d4ebff;}#sk-container-id-3 div.sk-label input.sk-toggleable__control:checked~label.sk-toggleable__label {background-color: #d4ebff;}#sk-container-id-3 input.sk-hidden--visually {border: 0;clip: rect(1px 1px 1px 1px);clip: rect(1px, 1px, 1px, 1px);height: 1px;margin: -1px;overflow: hidden;padding: 0;position: absolute;width: 1px;}#sk-container-id-3 div.sk-estimator {font-family: monospace;background-color: #f0f8ff;border: 1px dotted black;border-radius: 0.25em;box-sizing: border-box;margin-bottom: 0.5em;}#sk-container-id-3 div.sk-estimator:hover {background-color: #d4ebff;}#sk-container-id-3 div.sk-parallel-item::after {content: \"\";width: 100%;border-bottom: 1px solid gray;flex-grow: 1;}#sk-container-id-3 div.sk-label:hover label.sk-toggleable__label {background-color: #d4ebff;}#sk-container-id-3 div.sk-serial::before {content: \"\";position: absolute;border-left: 1px solid gray;box-sizing: border-box;top: 0;bottom: 0;left: 50%;z-index: 0;}#sk-container-id-3 div.sk-serial {display: flex;flex-direction: column;align-items: center;background-color: white;padding-right: 0.2em;padding-left: 0.2em;position: relative;}#sk-container-id-3 div.sk-item {position: relative;z-index: 1;}#sk-container-id-3 div.sk-parallel {display: flex;align-items: stretch;justify-content: center;background-color: white;position: relative;}#sk-container-id-3 div.sk-item::before, #sk-container-id-3 div.sk-parallel-item::before {content: \"\";position: absolute;border-left: 1px solid gray;box-sizing: border-box;top: 0;bottom: 0;left: 50%;z-index: -1;}#sk-container-id-3 div.sk-parallel-item {display: flex;flex-direction: column;z-index: 1;position: relative;background-color: white;}#sk-container-id-3 div.sk-parallel-item:first-child::after {align-self: flex-end;width: 50%;}#sk-container-id-3 div.sk-parallel-item:last-child::after {align-self: flex-start;width: 50%;}#sk-container-id-3 div.sk-parallel-item:only-child::after {width: 0;}#sk-container-id-3 div.sk-dashed-wrapped {border: 1px dashed gray;margin: 0 0.4em 0.5em 0.4em;box-sizing: border-box;padding-bottom: 0.4em;background-color: white;}#sk-container-id-3 div.sk-label label {font-family: monospace;font-weight: bold;display: inline-block;line-height: 1.2em;}#sk-container-id-3 div.sk-label-container {text-align: center;}#sk-container-id-3 div.sk-container {/* jupyter's `normalize.less` sets `[hidden] { display: none; }` but bootstrap.min.css set `[hidden] { display: none !important; }` so we also need the `!important` here to be able to override the default hidden behavior on the sphinx rendered scikit-learn.org. See: https://github.com/scikit-learn/scikit-learn/issues/21755 */display: inline-block !important;position: relative;}#sk-container-id-3 div.sk-text-repr-fallback {display: none;}</style><div id=\"sk-container-id-3\" class=\"sk-top-container\"><div class=\"sk-text-repr-fallback\"><pre>NearestNeighbors(n_neighbors=50)</pre><b>In a Jupyter environment, please rerun this cell to show the HTML representation or trust the notebook. <br />On GitHub, the HTML representation is unable to render, please try loading this page with nbviewer.org.</b></div><div class=\"sk-container\" hidden><div class=\"sk-item\"><div class=\"sk-estimator sk-toggleable\"><input class=\"sk-toggleable__control sk-hidden--visually\" id=\"sk-estimator-id-3\" type=\"checkbox\" checked><label for=\"sk-estimator-id-3\" class=\"sk-toggleable__label sk-toggleable__label-arrow\">NearestNeighbors</label><div class=\"sk-toggleable__content\"><pre>NearestNeighbors(n_neighbors=50)</pre></div></div></div></div></div>"
      ],
      "text/plain": [
       "NearestNeighbors(n_neighbors=50)"
      ]
     },
     "execution_count": 147,
     "metadata": {},
     "output_type": "execute_result"
    }
   ],
   "source": [
    "# KNN_ref = nb.NearestNeighbors(n_neighbors=50)\n",
    "# KNN_new = nb.NearestNeighbors(n_neighbors=50)\n",
    "\n",
    "# KNN_ref.fit(pcadatalist[0])\n",
    "# KNN_new.fit(pcadatalist[1])"
   ]
  },
  {
   "cell_type": "code",
   "execution_count": null,
   "metadata": {},
   "outputs": [],
   "source": [
    "# ref_cell_index = np.arange(adata_ref.n_obs)\n",
    "# new_cell_index = np.arange(adata_new.n_obs)\n",
    "# # indices of K neighbors of new cell\n",
    "# dist_new, ind_neighbour_new = KNN_ref.kneighbors(adata_new.X)\n",
    "# # indices of K neighbors of ref cell\n",
    "# dist_ref, ind_neighbour_ref = KNN_new.kneighbors(adata_ref.X)\n",
    "\n",
    "# paired_ref = mnn_1415['ref cell'].unique().sort()\n",
    "# paired_new = mnn_1415['new cell'].unique().sort()"
   ]
  },
  {
   "cell_type": "code",
   "execution_count": 15,
   "metadata": {},
   "outputs": [],
   "source": [
    "# Pair Initialization\n",
    "\n",
    "# ref_cell_index = np.arange(adata_ref.n_obs)\n",
    "# new_cell_index = np.arange(adata_new.n_obs)\n",
    "# # indices of K neighbors of new cell\n",
    "# dist_new, ind_neighbour_new = KNN_ref.kneighbors(adata_new.X)\n",
    "# # indices of K neighbors of ref cell\n",
    "# dist_ref, ind_neighbour_ref = KNN_new.kneighbors(adata_ref.X)\n",
    "\n",
    "# paired_ref = mnn_1415['ref cell'].unique().sort()\n",
    "# paired_new = mnn_1415['new cell'].unique().sort()\n",
    "\n",
    "# unpaired_ref = np.where(ref_cell_index in paired_ref, None, ref_cell_index)\n",
    "# np.mask_indices()\n",
    "# knn_init_neighbor_ref = np.array([ind_neighbour_ref[i] for i in ref_cell_index and i not in paired_ref])"
   ]
  },
  {
   "cell_type": "code",
   "execution_count": 43,
   "metadata": {},
   "outputs": [],
   "source": [
    "# adata_ref.obs_names_make_unique\n",
    "# adata_ref.n_obs\n",
    "# unpaired_ref = [i for i in ref_cell_index if i not in paired_ref]\n",
    "# unpaired_new = [j for j in new_cell_index if j not in paired_new]\n",
    "# knn_init_neighbour_ref = ind_neighbour_ref[unpaired_ref]\n",
    "# knn_init_neighbour_new = ind_neighbour_new[unpaired_new]"
   ]
  },
  {
   "cell_type": "code",
   "execution_count": 44,
   "metadata": {},
   "outputs": [
    {
     "data": {
      "text/plain": [
       "(4242, 50)"
      ]
     },
     "execution_count": 44,
     "metadata": {},
     "output_type": "execute_result"
    }
   ],
   "source": [
    "# knn_init_neighbour_new.shape"
   ]
  },
  {
   "cell_type": "code",
   "execution_count": 133,
   "metadata": {},
   "outputs": [],
   "source": [
    "# import torch\n",
    "# import torch.nn as nn\n",
    "# import torch.nn.functional as F\n",
    "# from tqdm import trange\n",
    "\n",
    "# class MLP(nn.Module):\n",
    "#     def __init__(self, input_dim=19089, hidden_num=1024):\n",
    "#         super().__init__()\n",
    "#         self.fc1 = nn.Linear(input_dim+1, hidden_num, bias=True)\n",
    "#         self.fc2 = nn.Linear(hidden_num, hidden_num, bias=True)\n",
    "#         self.fc3 = nn.Linear(hidden_num, input_dim, bias=True)\n",
    "#         self.act = lambda x: torch.tanh(x)\n",
    "    \n",
    "#     def forward(self, x_input, t):\n",
    "#         inputs = torch.cat([x_input, t], dim=1)\n",
    "#         x = self.fc1(inputs)\n",
    "#         x = self.act(x)\n",
    "#         x = self.fc2(x)\n",
    "#         x = self.act(x)\n",
    "#         x = self.fc3(x)\n",
    "\n",
    "#         return x"
   ]
  },
  {
   "cell_type": "code",
   "execution_count": 128,
   "metadata": {},
   "outputs": [],
   "source": [
    "# class RectifiedFlow():\n",
    "#     def __init__(self, model=None, num_steps=1000, adata_active=True):\n",
    "#         self.model = model\n",
    "#         self.N = num_steps\n",
    "#         self.adata_active = adata_active\n",
    "    \n",
    "#     def get_train_tuple(self, z0=None, z1=None):\n",
    "#         t = torch.rand((z1.shape[0], 1))\n",
    "#         # print(t.shape)\n",
    "#         # print(z1.shape)\n",
    "#         if self.adata_active:\n",
    "#             z1 = torch.Tensor(adata_new.X[z1].toarray())\n",
    "#             z0 = torch.Tensor(adata_ref.X[z0].toarray())\n",
    "#         # print(z1.shape)\n",
    "#         # print(t.shape)\n",
    "#         # print(t * z1)\n",
    "#         z_t =  t * z1 + (1. - t) * z0\n",
    "#         target = z1 - z0 \n",
    "            \n",
    "#         return z_t, t, target\n",
    "\n",
    "#     @torch.no_grad()\n",
    "#     def sample_ode(self, z0=None, N=None):\n",
    "#         ### NOTE: Use Euler method to sample from the learned flow\n",
    "#         if N is None:\n",
    "#             N = self.N    \n",
    "#         dt = 1./N\n",
    "#         traj = [] # to store the trajectory\n",
    "#         z = z0.detach().clone()\n",
    "#         batchsize = z.shape[0]\n",
    "        \n",
    "#         traj.append(z.detach().clone())\n",
    "#         for i in range(N):\n",
    "#             t = torch.ones((batchsize,1)) * i / N\n",
    "#             pred = self.model(z, t)\n",
    "#             z = z.detach().clone() + pred * dt\n",
    "            \n",
    "#             traj.append(z.detach().clone())\n",
    "\n",
    "#         return traj"
   ]
  },
  {
   "cell_type": "code",
   "execution_count": 129,
   "metadata": {},
   "outputs": [],
   "source": [
    "# def train_rectified_flow(rectified_flow, optimizer, pairs, batchsize, inner_iters):\n",
    "#     loss_curve = []\n",
    "#     for i in trange(inner_iters+1):\n",
    "#         optimizer.zero_grad()\n",
    "#         indices = torch.randperm(len(pairs))[:batchsize]\n",
    "#         batch = pairs[indices]\n",
    "#         z0 = batch[:, 0].detach().clone()\n",
    "#         z1 = batch[:, 1].detach().clone()\n",
    "#         z_t, t, target = rectified_flow.get_train_tuple(z0=z0, z1=z1)\n",
    "\n",
    "#         pred = rectified_flow.model(z_t, t)\n",
    "#         loss = (target - pred).view(pred.shape[0], -1).abs().pow(2).sum(dim=1)\n",
    "#         loss = loss.mean()\n",
    "#         loss.backward()\n",
    "        \n",
    "#         optimizer.step()\n",
    "#         loss_curve.append(np.log(loss.item())) ## to store the loss curve\n",
    "\n",
    "#     return rectified_flow, loss_curve"
   ]
  },
  {
   "cell_type": "code",
   "execution_count": 130,
   "metadata": {},
   "outputs": [],
   "source": [
    "# # mnn_1415\n",
    "# pairs_idx = torch.from_numpy(np.stack((mnn_1415['ref cell'], mnn_1415['new cell']), axis=0)).T\n",
    "# # pairs_idx.t\n",
    "\n",
    "# # knn_pairs_idx = \n",
    "# unpaired_new_row = torch.from_numpy(np.stack((unpaired_new, unpaired_new), axis=0)).T.reshape(-1, 1)\n",
    "# unpaired_nb_new = torch.from_numpy(knn_init_neighbour_new[:, :2]).reshape(-1, 1)\n",
    "# unpaired_ref_row = torch.from_numpy(np.stack((unpaired_ref, unpaired_ref), axis=0)).T.reshape(-1, 1)\n",
    "# unpaired_nb_ref = torch.from_numpy(knn_init_neighbour_ref[:, :2]).reshape(-1, 1)\n",
    "\n",
    "# ind_knn_new = torch.concat((unpaired_nb_new, unpaired_new_row), dim=1)\n",
    "# ind_knn_ref = torch.concat((unpaired_ref_row, unpaired_nb_ref), dim=1)\n",
    "\n",
    "# pair_idx_train = torch.concat((pairs_idx, ind_knn_new, ind_knn_ref), axis=0)"
   ]
  },
  {
   "cell_type": "markdown",
   "metadata": {},
   "source": [
    "Training"
   ]
  },
  {
   "cell_type": "code",
   "execution_count": 141,
   "metadata": {},
   "outputs": [
    {
     "name": "stderr",
     "output_type": "stream",
     "text": [
      "  0%|          | 2/1001 [00:04<37:59,  2.28s/it]\n"
     ]
    },
    {
     "ename": "KeyboardInterrupt",
     "evalue": "",
     "output_type": "error",
     "traceback": [
      "\u001b[0;31m---------------------------------------------------------------------------\u001b[0m",
      "\u001b[0;31mKeyboardInterrupt\u001b[0m                         Traceback (most recent call last)",
      "Cell \u001b[0;32mIn [141], line 10\u001b[0m\n\u001b[1;32m      7\u001b[0m recFlow \u001b[39m=\u001b[39m RectifiedFlow(MLP(input_dim\u001b[39m=\u001b[39minput_dim, hidden_num\u001b[39m=\u001b[39m\u001b[39m128\u001b[39m), num_steps\u001b[39m=\u001b[39m\u001b[39m100\u001b[39m)\n\u001b[1;32m      8\u001b[0m optimizer \u001b[39m=\u001b[39m torch\u001b[39m.\u001b[39moptim\u001b[39m.\u001b[39mAdam(recFlow\u001b[39m.\u001b[39mmodel\u001b[39m.\u001b[39mparameters(), lr\u001b[39m=\u001b[39m\u001b[39m5e-3\u001b[39m)\n\u001b[0;32m---> 10\u001b[0m recFlow, loss_curve \u001b[39m=\u001b[39m train_rectified_flow(recFlow, optimizer, pair_idx_train, batchsize, iterations)\n",
      "Cell \u001b[0;32mIn [129], line 14\u001b[0m, in \u001b[0;36mtrain_rectified_flow\u001b[0;34m(rectified_flow, optimizer, pairs, batchsize, inner_iters)\u001b[0m\n\u001b[1;32m     12\u001b[0m loss \u001b[39m=\u001b[39m (target \u001b[39m-\u001b[39m pred)\u001b[39m.\u001b[39mview(pred\u001b[39m.\u001b[39mshape[\u001b[39m0\u001b[39m], \u001b[39m-\u001b[39m\u001b[39m1\u001b[39m)\u001b[39m.\u001b[39mabs()\u001b[39m.\u001b[39mpow(\u001b[39m2\u001b[39m)\u001b[39m.\u001b[39msum(dim\u001b[39m=\u001b[39m\u001b[39m1\u001b[39m)\n\u001b[1;32m     13\u001b[0m loss \u001b[39m=\u001b[39m loss\u001b[39m.\u001b[39mmean()\n\u001b[0;32m---> 14\u001b[0m loss\u001b[39m.\u001b[39;49mbackward()\n\u001b[1;32m     16\u001b[0m optimizer\u001b[39m.\u001b[39mstep()\n\u001b[1;32m     17\u001b[0m loss_curve\u001b[39m.\u001b[39mappend(np\u001b[39m.\u001b[39mlog(loss\u001b[39m.\u001b[39mitem())) \u001b[39m## to store the loss curve\u001b[39;00m\n",
      "File \u001b[0;32m/opt/anaconda3/envs/conda_python3.8/lib/python3.8/site-packages/torch/_tensor.py:307\u001b[0m, in \u001b[0;36mTensor.backward\u001b[0;34m(self, gradient, retain_graph, create_graph, inputs)\u001b[0m\n\u001b[1;32m    298\u001b[0m \u001b[39mif\u001b[39;00m has_torch_function_unary(\u001b[39mself\u001b[39m):\n\u001b[1;32m    299\u001b[0m     \u001b[39mreturn\u001b[39;00m handle_torch_function(\n\u001b[1;32m    300\u001b[0m         Tensor\u001b[39m.\u001b[39mbackward,\n\u001b[1;32m    301\u001b[0m         (\u001b[39mself\u001b[39m,),\n\u001b[0;32m   (...)\u001b[0m\n\u001b[1;32m    305\u001b[0m         create_graph\u001b[39m=\u001b[39mcreate_graph,\n\u001b[1;32m    306\u001b[0m         inputs\u001b[39m=\u001b[39minputs)\n\u001b[0;32m--> 307\u001b[0m torch\u001b[39m.\u001b[39;49mautograd\u001b[39m.\u001b[39;49mbackward(\u001b[39mself\u001b[39;49m, gradient, retain_graph, create_graph, inputs\u001b[39m=\u001b[39;49minputs)\n",
      "File \u001b[0;32m/opt/anaconda3/envs/conda_python3.8/lib/python3.8/site-packages/torch/autograd/__init__.py:154\u001b[0m, in \u001b[0;36mbackward\u001b[0;34m(tensors, grad_tensors, retain_graph, create_graph, grad_variables, inputs)\u001b[0m\n\u001b[1;32m    151\u001b[0m \u001b[39mif\u001b[39;00m retain_graph \u001b[39mis\u001b[39;00m \u001b[39mNone\u001b[39;00m:\n\u001b[1;32m    152\u001b[0m     retain_graph \u001b[39m=\u001b[39m create_graph\n\u001b[0;32m--> 154\u001b[0m Variable\u001b[39m.\u001b[39;49m_execution_engine\u001b[39m.\u001b[39;49mrun_backward(\n\u001b[1;32m    155\u001b[0m     tensors, grad_tensors_, retain_graph, create_graph, inputs,\n\u001b[1;32m    156\u001b[0m     allow_unreachable\u001b[39m=\u001b[39;49m\u001b[39mTrue\u001b[39;49;00m, accumulate_grad\u001b[39m=\u001b[39;49m\u001b[39mTrue\u001b[39;49;00m)\n",
      "\u001b[0;31mKeyboardInterrupt\u001b[0m: "
     ]
    }
   ],
   "source": [
    "# # pair_idx_train.shape\n",
    "\n",
    "# iterations = 1000\n",
    "# batchsize = 2048\n",
    "# input_dim = 19089\n",
    "\n",
    "# recFlow = RectifiedFlow(MLP(input_dim=input_dim, hidden_num=128), num_steps=100)\n",
    "# optimizer = torch.optim.Adam(recFlow.model.parameters(), lr=5e-3)\n",
    "\n",
    "# recFlow, loss_curve = train_rectified_flow(recFlow, optimizer, pair_idx_train, batchsize, iterations)"
   ]
  },
  {
   "cell_type": "code",
   "execution_count": 137,
   "metadata": {},
   "outputs": [
    {
     "data": {
      "text/plain": [
       "Text(0.5, 1.0, 'Training Loss Curve')"
      ]
     },
     "execution_count": 137,
     "metadata": {},
     "output_type": "execute_result"
    },
    {
     "data": {
      "image/png": "[encoded data removed]",
      "text/plain": [
       "<Figure size 640x480 with 1 Axes>"
      ]
     },
     "metadata": {},
     "output_type": "display_data"
    }
   ],
   "source": [
    "# plt.plot(np.linspace(0, iterations, iterations+1), loss_curve[:(iterations+1)])\n",
    "# plt.title('Training Loss Curve')"
   ]
  },
  {
   "cell_type": "code",
   "execution_count": 140,
   "metadata": {},
   "outputs": [
    {
     "name": "stderr",
     "output_type": "stream",
     "text": [
      "  0%|          | 2/1001 [00:13<1:53:55,  6.84s/it]\n"
     ]
    },
    {
     "ename": "KeyboardInterrupt",
     "evalue": "",
     "output_type": "error",
     "traceback": [
      "\u001b[0;31m---------------------------------------------------------------------------\u001b[0m",
      "\u001b[0;31mKeyboardInterrupt\u001b[0m                         Traceback (most recent call last)",
      "Cell \u001b[0;32mIn [140], line 10\u001b[0m\n\u001b[1;32m      7\u001b[0m recFlow1415 \u001b[39m=\u001b[39m RectifiedFlow(MLP(input_dim\u001b[39m=\u001b[39minput_dim, hidden_num\u001b[39m=\u001b[39m\u001b[39m1024\u001b[39m), num_steps\u001b[39m=\u001b[39m\u001b[39m100\u001b[39m)\n\u001b[1;32m      8\u001b[0m optimizer \u001b[39m=\u001b[39m torch\u001b[39m.\u001b[39moptim\u001b[39m.\u001b[39mAdam(recFlow1415\u001b[39m.\u001b[39mmodel\u001b[39m.\u001b[39mparameters(), lr\u001b[39m=\u001b[39m\u001b[39m5e-3\u001b[39m)\n\u001b[0;32m---> 10\u001b[0m recFlow1415, loss_curve \u001b[39m=\u001b[39m train_rectified_flow(recFlow1415, optimizer, pair_idx_train, batchsize, iterations)\n",
      "Cell \u001b[0;32mIn [129], line 9\u001b[0m, in \u001b[0;36mtrain_rectified_flow\u001b[0;34m(rectified_flow, optimizer, pairs, batchsize, inner_iters)\u001b[0m\n\u001b[1;32m      7\u001b[0m z0 \u001b[39m=\u001b[39m batch[:, \u001b[39m0\u001b[39m]\u001b[39m.\u001b[39mdetach()\u001b[39m.\u001b[39mclone()\n\u001b[1;32m      8\u001b[0m z1 \u001b[39m=\u001b[39m batch[:, \u001b[39m1\u001b[39m]\u001b[39m.\u001b[39mdetach()\u001b[39m.\u001b[39mclone()\n\u001b[0;32m----> 9\u001b[0m z_t, t, target \u001b[39m=\u001b[39m rectified_flow\u001b[39m.\u001b[39;49mget_train_tuple(z0\u001b[39m=\u001b[39;49mz0, z1\u001b[39m=\u001b[39;49mz1)\n\u001b[1;32m     11\u001b[0m pred \u001b[39m=\u001b[39m rectified_flow\u001b[39m.\u001b[39mmodel(z_t, t)\n\u001b[1;32m     12\u001b[0m loss \u001b[39m=\u001b[39m (target \u001b[39m-\u001b[39m pred)\u001b[39m.\u001b[39mview(pred\u001b[39m.\u001b[39mshape[\u001b[39m0\u001b[39m], \u001b[39m-\u001b[39m\u001b[39m1\u001b[39m)\u001b[39m.\u001b[39mabs()\u001b[39m.\u001b[39mpow(\u001b[39m2\u001b[39m)\u001b[39m.\u001b[39msum(dim\u001b[39m=\u001b[39m\u001b[39m1\u001b[39m)\n",
      "\u001b[0;31mKeyboardInterrupt\u001b[0m: "
     ]
    }
   ],
   "source": [
    "# # pair_idx_train.shape\n",
    "\n",
    "# iterations = 1000\n",
    "# batchsize = 2048\n",
    "# input_dim = 19089\n",
    "\n",
    "# recFlow1415 = RectifiedFlow(MLP(input_dim=input_dim, hidden_num=1024), num_steps=100)\n",
    "# optimizer = torch.optim.Adam(recFlow1415.model.parameters(), lr=5e-3)\n",
    "\n",
    "# recFlow1415, loss_curve = train_rectified_flow(recFlow1415, optimizer, pair_idx_train, batchsize, iterations)"
   ]
  },
  {
   "cell_type": "code",
   "execution_count": 139,
   "metadata": {},
   "outputs": [
    {
     "data": {
      "text/plain": [
       "Text(0.5, 1.0, 'Training Loss Curve')"
      ]
     },
     "execution_count": 139,
     "metadata": {},
     "output_type": "execute_result"
    },
    {
     "data": {
      "image/png": "[encoded data removed]",
      "text/plain": [
       "<Figure size 640x480 with 1 Axes>"
      ]
     },
     "metadata": {},
     "output_type": "display_data"
    }
   ],
   "source": [
    "# plt.plot(np.linspace(0, iterations, iterations+1), loss_curve[:(iterations+1)])\n",
    "# plt.title('Training Loss Curve')"
   ]
  },
  {
   "cell_type": "code",
   "execution_count": null,
   "metadata": {},
   "outputs": [],
   "source": [
    "# adpair_242526 = wot.io.read_dataset(PATH_adpair_242526)\n",
    "# mnn_242526 = pd.read_csv(PATH_mnn_242526)\n",
    "\n",
    "\n"
   ]
  },
  {
   "cell_type": "code",
   "execution_count": null,
   "metadata": {},
   "outputs": [],
   "source": []
  }
 ],
 "metadata": {
  "kernelspec": {
   "display_name": "Python 3.10.8 ('cell_rec')",
   "language": "python",
   "name": "python3"
  },
  "language_info": {
   "codemirror_mode": {
    "name": "ipython",
    "version": 3
   },
   "file_extension": ".py",
   "mimetype": "text/x-python",
   "name": "python",
   "nbconvert_exporter": "python",
   "pygments_lexer": "ipython3",
   "version": "3.10.8 (main, Nov 24 2022, 14:13:03) [GCC 11.2.0]"
  },
  "orig_nbformat": 4,
  "vscode": {
   "interpreter": {
    "hash": "05925669974edb5df6c58d36f83f0a4ef7581668e857ffcbbf59f6628323a2fd"
   }
  }
 },
 "nbformat": 4,
 "nbformat_minor": 2
}
